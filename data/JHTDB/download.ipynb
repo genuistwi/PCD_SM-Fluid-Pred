{
 "cells": [
  {
   "metadata": {
    "ExecuteTime": {
     "end_time": "2025-01-31T14:18:56.270401Z",
     "start_time": "2025-01-31T14:18:56.262851Z"
    }
   },
   "cell_type": "code",
   "source": [
    "import os\n",
    "work_dir = \"../../\"\n",
    "os.chdir(work_dir)\n",
    "work_dir = os.getcwd()\n",
    "print(\"Current working directory:\", work_dir)"
   ],
   "id": "3bbca9b3ba0367be",
   "outputs": [
    {
     "name": "stdout",
     "output_type": "stream",
     "text": [
      "Current working directory: /home/wilf/Desktop/python_workspace/PCD_SM-Fluid-Pred\n"
     ]
    }
   ],
   "execution_count": 1
  },
  {
   "metadata": {},
   "cell_type": "markdown",
   "source": [
    "# JHTDB 128 tra\n",
    "More details on: https://github.com/tum-pbs/autoreg-pde-diffusion"
   ],
   "id": "53ebdeaea266cd0"
  },
  {
   "metadata": {
    "collapsed": true
   },
   "cell_type": "code",
   "source": "!sshpass -p m1734798.001 rsync -P rsync://m1734798.001@dataserv.ub.tum.de/m1734798.001/128_tra.zip ./data/_pipeline_/JHTDB/",
   "id": "initial_id",
   "outputs": [],
   "execution_count": null
  },
  {
   "metadata": {},
   "cell_type": "code",
   "source": "!unzip -o -d data \"data/_pipeline_/JHTDB/128_tra.zip\"",
   "id": "323d84ae0090b455",
   "outputs": [],
   "execution_count": null
  },
  {
   "metadata": {
    "ExecuteTime": {
     "end_time": "2025-01-31T14:19:49.628Z",
     "start_time": "2025-01-31T14:19:49.339786Z"
    }
   },
   "cell_type": "code",
   "source": "!mv data/128_tra data/_pipeline_/JHTDB/",
   "id": "9c332f6cbe0db77c",
   "outputs": [],
   "execution_count": 2
  }
 ],
 "metadata": {
  "kernelspec": {
   "display_name": "Python 3",
   "language": "python",
   "name": "python3"
  },
  "language_info": {
   "codemirror_mode": {
    "name": "ipython",
    "version": 2
   },
   "file_extension": ".py",
   "mimetype": "text/x-python",
   "name": "python",
   "nbconvert_exporter": "python",
   "pygments_lexer": "ipython2",
   "version": "2.7.6"
  }
 },
 "nbformat": 4,
 "nbformat_minor": 5
}
