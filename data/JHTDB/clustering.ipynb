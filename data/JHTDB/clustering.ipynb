{
 "cells": [
  {
   "cell_type": "code",
   "id": "initial_id",
   "metadata": {
    "collapsed": true
   },
   "source": "import os; os.chdir(\"../../\"); print(\"Current working directory:\", work_dir := os.getcwd())",
   "outputs": [],
   "execution_count": null
  },
  {
   "metadata": {
    "ExecuteTime": {
     "end_time": "2025-03-07T19:20:54.292028Z",
     "start_time": "2025-03-07T19:19:56.562776Z"
    }
   },
   "cell_type": "code",
   "source": [
    "from data.module import DataLightningModule\n",
    "from utils.config_parser import *\n",
    "\n",
    "\n",
    "(trainCfg := ConfigParser(work_dir=\"\")).load(\"./config/config_list.txt\")\n",
    "trainCfg.globalCfg.dataset_name = \"JHTDB\"\n",
    "\n",
    "dataModule = DataLightningModule(trainCfg)\n",
    "\n",
    "dataModule.prepare_data(export=True)\n",
    "trainCfg.cluster = False"
   ],
   "id": "90b395ccc6fa37a4",
   "outputs": [
    {
     "name": "stdout",
     "output_type": "stream",
     "text": [
      "Loaded config 'globalCfg' from 'config/global.py'\n",
      "Loaded config 'trainingCfg' from 'config/training.py'\n",
      "Loaded config 'modelCfg' from 'config/model.py'\n",
      "Loaded config 'sdeCfg' from 'config/sde.py'\n"
     ]
    },
    {
     "name": "stderr",
     "output_type": "stream",
     "text": [
      "100%|██████████| 8250/8250 [00:46<00:00, 177.04it/s]\n"
     ]
    }
   ],
   "execution_count": 2
  },
  {
   "metadata": {
    "ExecuteTime": {
     "end_time": "2025-02-12T19:27:31.342290Z",
     "start_time": "2025-02-12T19:27:31.339900Z"
    }
   },
   "cell_type": "code",
   "source": "loader = dataModule.train_dataloader()",
   "id": "4fed364778c6ec35",
   "outputs": [],
   "execution_count": 3
  },
  {
   "metadata": {},
   "cell_type": "code",
   "source": "input_data, output_data = dataModule.trainSet[10]",
   "id": "a43c236a2a52ea54",
   "outputs": [],
   "execution_count": null
  },
  {
   "metadata": {},
   "cell_type": "code",
   "source": [
    "trainCfg.cluster = False\n",
    "dataModule.prepare_data(force_call=True)\n"
   ],
   "id": "9b2ade8cd89f3b2f",
   "outputs": [],
   "execution_count": null
  },
  {
   "metadata": {},
   "cell_type": "code",
   "source": [
    "import matplotlib.pyplot as plt\n",
    "\n",
    "plt.imshow(output_data.squeeze()[3, ...])"
   ],
   "id": "b020964d52a332cb",
   "outputs": [],
   "execution_count": null
  },
  {
   "metadata": {},
   "cell_type": "code",
   "source": "plt.imshow(input_data.squeeze()[3, ...])\n",
   "id": "4fd85ec19e72f9e4",
   "outputs": [],
   "execution_count": null
  },
  {
   "metadata": {},
   "cell_type": "code",
   "source": [
    "import torch\n",
    "torch.mean(input_data-output_data)"
   ],
   "id": "e9332f635f42af55",
   "outputs": [],
   "execution_count": null
  },
  {
   "metadata": {},
   "cell_type": "code",
   "source": "",
   "id": "32a989c0524125ee",
   "outputs": [],
   "execution_count": null
  }
 ],
 "metadata": {
  "kernelspec": {
   "display_name": "Python 3",
   "language": "python",
   "name": "python3"
  },
  "language_info": {
   "codemirror_mode": {
    "name": "ipython",
    "version": 2
   },
   "file_extension": ".py",
   "mimetype": "text/x-python",
   "name": "python",
   "nbconvert_exporter": "python",
   "pygments_lexer": "ipython2",
   "version": "2.7.6"
  }
 },
 "nbformat": 4,
 "nbformat_minor": 5
}
