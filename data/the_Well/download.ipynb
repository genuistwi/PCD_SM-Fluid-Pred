{
 "cells": [
  {
   "cell_type": "code",
   "id": "initial_id",
   "metadata": {
    "collapsed": true
   },
   "source": [
    "# --- Root path ---\n",
    "\n",
    "import os\n",
    "\n",
    "work_dir = \"../../\"\n",
    "os.chdir(work_dir)\n",
    "home_path = os.getcwd()\n",
    "print(\"Current working directory:\", home_path)\n",
    "\n",
    "# --- The Well library ---\n",
    "\n",
    "from the_well.utils.download import well_download\n",
    "\n",
    "data_path = \"data/_pipeline_\"  # path/to/storage\n",
    "data_path = os.path.join(home_path, data_path)\n",
    "\n",
    "dataset_names = [\"turbulent_radiative_layer_2D\", \"post_neutron_star_merger\", \"viscoelastic_instability\", \"MHD_64\"]"
   ],
   "outputs": [],
   "execution_count": null
  },
  {
   "metadata": {},
   "cell_type": "markdown",
   "source": [
    "### Download data\n",
    "\n",
    "Download the data relevant for the code. We use `turbulent_radiative_layer_2D` and ..."
   ],
   "id": "64f958ffdfc56658"
  },
  {
   "metadata": {},
   "cell_type": "code",
   "source": [
    "for dataset_name in dataset_names:\n",
    "    well_download(base_path=data_path, dataset=dataset_name, split=\"train\")\n",
    "    print(\"--- Finished downloading train set ---\")\n",
    "\n",
    "    well_download(base_path=data_path, dataset=dataset_name, split=\"valid\")\n",
    "    print(\"--- Finished downloading valid set ---\")\n",
    "\n",
    "    well_download(base_path=data_path, dataset=dataset_name, split=\"test\")\n",
    "    print(\"--- Finished downloading test set ---\")\n",
    "\n",
    "print(\"All done!\")"
   ],
   "id": "359200f7ec08c78e",
   "outputs": [],
   "execution_count": null
  },
  {
   "metadata": {
    "is_executing": true
   },
   "cell_type": "code",
   "source": [],
   "id": "82807c02d5266517",
   "outputs": [],
   "execution_count": null
  }
 ],
 "metadata": {
  "kernelspec": {
   "display_name": "Python 3",
   "language": "python",
   "name": "python3"
  },
  "language_info": {
   "codemirror_mode": {
    "name": "ipython",
    "version": 2
   },
   "file_extension": ".py",
   "mimetype": "text/x-python",
   "name": "python",
   "nbconvert_exporter": "python",
   "pygments_lexer": "ipython2",
   "version": "2.7.6"
  }
 },
 "nbformat": 4,
 "nbformat_minor": 5
}
