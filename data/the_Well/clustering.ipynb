{
 "cells": [
  {
   "metadata": {},
   "cell_type": "code",
   "source": "import os; os.chdir(\"../../\"); print(\"Current working directory:\", work_dir := os.getcwd())",
   "id": "1b547a82b4ea7c76",
   "outputs": [],
   "execution_count": null
  },
  {
   "metadata": {
    "ExecuteTime": {
     "end_time": "2025-03-12T19:27:48.927892Z",
     "start_time": "2025-03-12T19:27:45.514674Z"
    }
   },
   "cell_type": "code",
   "source": [
    "from data.module import DataLightningModule\n",
    "from utils.config_parser import *\n",
    "\n",
    "\n",
    "(trainCfg := ConfigParser(work_dir=\"\")).load(\"./config/config_list.txt\")\n",
    "trainCfg.globalCfg.dataset_name = \"MHD_64\"\n",
    "\n",
    "assert trainCfg.globalCfg.dataset_name  in [\"turbulent_radiative_layer_2D\", \"MHD_64\"]\n",
    "\n",
    "import os\n",
    "os.environ[\"CUDA_VISIBLE_DEVICES\"] = \"-1\"\n",
    "\n",
    "\n",
    "dataModule = DataLightningModule(trainCfg)\n",
    "dataModule.prepare_data(export=True)\n",
    "\n",
    "cluster_path = dataModule.trainSet.cluster_path\n",
    "dataset_name = dataModule.dataset_name\n",
    "train_save_path = os.path.join(cluster_path, dataset_name + \"_train.pkl\")\n",
    "valid_save_path = os.path.join(cluster_path, dataset_name + \"_valid.pkl\")\n"
   ],
   "id": "6bd4c84b068860de",
   "outputs": [
    {
     "name": "stdout",
     "output_type": "stream",
     "text": [
      "Loaded config 'globalCfg' from 'config/global.py'\n",
      "Loaded config 'trainingCfg' from 'config/training.py'\n",
      "Loaded config 'modelCfg' from 'config/model.py'\n",
      "Loaded config 'sdeCfg' from 'config/sde.py'\n",
      "Manual export is preferable.\n"
     ]
    }
   ],
   "execution_count": 2
  },
  {
   "metadata": {
    "ExecuteTime": {
     "end_time": "2025-03-12T19:30:52.369576Z",
     "start_time": "2025-03-12T19:28:13.836133Z"
    }
   },
   "cell_type": "code",
   "source": [
    "from data.dataset import RAM_export, RAM_load\n",
    "\n",
    "RAM_load(dataModule.trainSet)"
   ],
   "id": "7ea8747640c6745d",
   "outputs": [
    {
     "name": "stderr",
     "output_type": "stream",
     "text": [
      "100%|██████████| 7623/7623 [02:38<00:00, 48.09it/s]\n"
     ]
    }
   ],
   "execution_count": 3
  },
  {
   "metadata": {
    "ExecuteTime": {
     "end_time": "2025-03-12T19:33:20.494754Z",
     "start_time": "2025-03-12T19:32:59.565305Z"
    }
   },
   "cell_type": "code",
   "source": "RAM_export(train_save_path, dataModule.trainSet.RAM_data)",
   "id": "1f23d153a51366b4",
   "outputs": [],
   "execution_count": 4
  },
  {
   "metadata": {
    "ExecuteTime": {
     "end_time": "2025-03-12T19:33:32.779342Z",
     "start_time": "2025-03-12T19:33:32.776680Z"
    }
   },
   "cell_type": "code",
   "source": "del dataModule.trainSet",
   "id": "19cb446eadd05502",
   "outputs": [],
   "execution_count": 5
  },
  {
   "metadata": {
    "ExecuteTime": {
     "end_time": "2025-03-12T19:34:02.327520Z",
     "start_time": "2025-03-12T19:33:44.310030Z"
    }
   },
   "cell_type": "code",
   "source": "RAM_load(dataModule.validSet)",
   "id": "99f9619e362a881e",
   "outputs": [
    {
     "name": "stderr",
     "output_type": "stream",
     "text": [
      "100%|██████████| 990/990 [00:18<00:00, 54.96it/s]\n"
     ]
    }
   ],
   "execution_count": 6
  },
  {
   "metadata": {
    "ExecuteTime": {
     "end_time": "2025-03-12T19:34:07.991639Z",
     "start_time": "2025-03-12T19:34:05.851780Z"
    }
   },
   "cell_type": "code",
   "source": "RAM_export(valid_save_path, dataModule.validSet.RAM_data)",
   "id": "2245e97e9b9d54ff",
   "outputs": [],
   "execution_count": 7
  },
  {
   "metadata": {},
   "cell_type": "code",
   "outputs": [],
   "execution_count": null,
   "source": "del dataModule.validSet",
   "id": "956a09964f59cb91"
  }
 ],
 "metadata": {
  "kernelspec": {
   "display_name": "Python 3",
   "language": "python",
   "name": "python3"
  },
  "language_info": {
   "codemirror_mode": {
    "name": "ipython",
    "version": 2
   },
   "file_extension": ".py",
   "mimetype": "text/x-python",
   "name": "python",
   "nbconvert_exporter": "python",
   "pygments_lexer": "ipython2",
   "version": "2.7.6"
  }
 },
 "nbformat": 4,
 "nbformat_minor": 5
}
