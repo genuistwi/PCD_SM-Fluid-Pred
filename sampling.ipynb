{
 "cells": [
  {
   "cell_type": "code",
   "id": "initial_id",
   "metadata": {
    "collapsed": true,
    "ExecuteTime": {
     "end_time": "2025-05-20T15:20:14.314861Z",
     "start_time": "2025-05-20T15:20:10.645011Z"
    }
   },
   "source": [
    "from data.module import DataLightningModule\n",
    "from models.module import ModelLightningModule\n",
    "from utils.objects.utils import EmptyObj\n",
    "from utils.files.utils import pkl_load\n",
    "import os\n",
    "from results.utils import save_objects\n",
    "import SDE.sampler as sampler\n",
    "import torch\n",
    "from tqdm import tqdm\n",
    "import matplotlib.pyplot as plt"
   ],
   "outputs": [],
   "execution_count": 1
  },
  {
   "metadata": {
    "ExecuteTime": {
     "end_time": "2025-05-20T15:20:29.139366Z",
     "start_time": "2025-05-20T15:20:26.023660Z"
    }
   },
   "cell_type": "code",
   "source": [
    "IDs = ['y2025_m04_d02_09h_25m_13s']\n",
    "\n",
    "for _ in range(1):\n",
    "    for run_number in [0]:\n",
    "        for ID in tqdm(IDs):\n",
    "            storage_dir = \"./storage\"\n",
    "            models_dir = os.path.join(storage_dir, \"models\")\n",
    "            model_dir = os.path.join(models_dir, ID)\n",
    "            checkpoint_path = os.path.join(model_dir, \"checkpoint.ckpt\")\n",
    "            Cfg_path = os.path.join(model_dir, \"Cfg.pkl\")\n",
    "\n",
    "            sampleCfg = pkl_load(Cfg_path)\n",
    "            sampleCfg.cluster = False\n",
    "            sampleCfg.work_dir = os.getcwd()\n",
    "\n",
    "            dataModule = DataLightningModule(sampleCfg)\n",
    "            dataModule.prepare_data(force_call=True, export=False)  # We still need the trainSet for ease of checkpoint loading\n",
    "            dataModule.setup(stage=\"test\")  # Prepare the trainSet\n",
    "\n",
    "            print(sampleCfg.sdeCfg.sde_name)\n",
    "\n",
    "            model_module = ModelLightningModule.load_from_checkpoint(checkpoint_path=checkpoint_path, Cfg=sampleCfg, data_set=dataModule.trainSet)\n",
    "\n",
    "            model_module.eval()\n",
    "            device = model_module.device\n",
    "\n",
    "            sampleCfg.samplingCfg = EmptyObj()\n",
    "\n",
    "            sampleCfg.samplingCfg.method = \"pc\"\n",
    "            sampleCfg.samplingCfg.noise_removal = True\n",
    "            sampleCfg.samplingCfg.predictor = \"euler_maruyama\"  # none euler_maruyama reverse_diffusion ancestral_sampling\n",
    "            sampleCfg.samplingCfg.corrector = \"none\" # none langevin ald\n",
    "            sampleCfg.samplingCfg.snr = .16\n",
    "            sampleCfg.samplingCfg.n_steps_each = 1\n",
    "            sampleCfg.samplingCfg.probability_flow = False\n",
    "\n",
    "\n",
    "            _, sample = dataModule.trainSet[0]\n",
    "            _, num_fields, lx, ly = sample.shape\n",
    "            # _, num_fields, lx, ly, lz = sample.shape\n",
    "\n",
    "\n",
    "            sampling_fn = sampler.get_sampling_fn(sampleCfg.samplingCfg, model_module.SDE, tuple(sample.shape), eps=1e-3)\n",
    "            num_frames = 1\n",
    "\n",
    "            GT, _ = dataModule.testSet[run_number]\n",
    "            print(len(dataModule.testSet))\n",
    "            pred = torch.zeros_like(GT)\n",
    "            pred[:num_frames, ...] = GT[:num_frames, ...]  # Set the same first frames\n",
    "\n",
    "            GT = GT.to(device)\n",
    "            pred = pred.to(device)\n",
    "\n",
    "            resh_fn = model_module.model.cond_format\n",
    "            mask = dataModule.testSet.mask.to(model_module.device) if sampleCfg.globalCfg.dataset_name == \"JHTDB\" else None\n",
    "            c=0\n",
    "\n",
    "            for i in range(num_frames, 21):\n",
    "\n",
    "                cond_frames = pred[i-num_frames:i, ...]\n",
    "                cond = resh_fn(cond_frames.unsqueeze(0))\n",
    "                sample, n_tot_iter = sampling_fn(model_module, cond=cond.to(model_module.device))\n",
    "                pred[i, ...] = sample\n",
    "\n",
    "                # pred[i, -1, ...] = GT[i, -1, ...]  # If Mach is known, (JHTDB only)\n",
    "\n",
    "                c+=1\n",
    "\n",
    "            sample = dict(GT=GT, pred=pred, fields_names=dataModule.testSet.fields_names, mask=mask)\n",
    "            save_objects(storage_path=storage_dir, sampleCfg=sampleCfg, data_dict=sample, test_case_number=run_number+1)\n",
    "\n",
    "        print('--- Done ---')"
   ],
   "id": "ec55cf0ba39c32d2",
   "outputs": [
    {
     "name": "stderr",
     "output_type": "stream",
     "text": [
      "  0%|          | 0/1 [00:00<?, ?it/s]"
     ]
    },
    {
     "name": "stdout",
     "output_type": "stream",
     "text": [
      "subvpsde\n",
      "9\n"
     ]
    },
    {
     "name": "stderr",
     "output_type": "stream",
     "text": [
      "  0%|          | 0/1 [00:02<?, ?it/s]\n"
     ]
    },
    {
     "ename": "KeyboardInterrupt",
     "evalue": "",
     "output_type": "error",
     "traceback": [
      "\u001B[0;31m---------------------------------------------------------------------------\u001B[0m",
      "\u001B[0;31mKeyboardInterrupt\u001B[0m                         Traceback (most recent call last)",
      "Cell \u001B[0;32mIn[3], line 64\u001B[0m\n\u001B[1;32m     62\u001B[0m cond_frames \u001B[38;5;241m=\u001B[39m pred[i\u001B[38;5;241m-\u001B[39mnum_frames:i, \u001B[38;5;241m.\u001B[39m\u001B[38;5;241m.\u001B[39m\u001B[38;5;241m.\u001B[39m]\n\u001B[1;32m     63\u001B[0m cond \u001B[38;5;241m=\u001B[39m resh_fn(cond_frames\u001B[38;5;241m.\u001B[39munsqueeze(\u001B[38;5;241m0\u001B[39m))\n\u001B[0;32m---> 64\u001B[0m sample, n_tot_iter \u001B[38;5;241m=\u001B[39m \u001B[43msampling_fn\u001B[49m\u001B[43m(\u001B[49m\u001B[43mmodel_module\u001B[49m\u001B[43m,\u001B[49m\u001B[43m \u001B[49m\u001B[43mcond\u001B[49m\u001B[38;5;241;43m=\u001B[39;49m\u001B[43mcond\u001B[49m\u001B[38;5;241;43m.\u001B[39;49m\u001B[43mto\u001B[49m\u001B[43m(\u001B[49m\u001B[43mmodel_module\u001B[49m\u001B[38;5;241;43m.\u001B[39;49m\u001B[43mdevice\u001B[49m\u001B[43m)\u001B[49m\u001B[43m)\u001B[49m\n\u001B[1;32m     65\u001B[0m pred[i, \u001B[38;5;241m.\u001B[39m\u001B[38;5;241m.\u001B[39m\u001B[38;5;241m.\u001B[39m] \u001B[38;5;241m=\u001B[39m sample\n\u001B[1;32m     67\u001B[0m \u001B[38;5;66;03m# plt.imshow(sample.cpu()[0, 0,10,...])\u001B[39;00m\n\u001B[1;32m     68\u001B[0m \u001B[38;5;66;03m# plt.show()\u001B[39;00m\n\u001B[1;32m     69\u001B[0m \n\u001B[1;32m     70\u001B[0m \u001B[38;5;66;03m# pred[i, -1, ...] = GT[i, -1, ...]  # Cheat with Ma ! It is prior information that is given.\u001B[39;00m\n",
      "File \u001B[0;32m~/Desktop/python_workspace/PCD_SM-Fluid-Pred/SDE/sampler.py:391\u001B[0m, in \u001B[0;36mget_pc_sampler.<locals>.pc_sampler\u001B[0;34m(model, cond)\u001B[0m\n\u001B[1;32m    389\u001B[0m     vec_t \u001B[38;5;241m=\u001B[39m torch\u001B[38;5;241m.\u001B[39mones(shape[\u001B[38;5;241m0\u001B[39m], device\u001B[38;5;241m=\u001B[39mt\u001B[38;5;241m.\u001B[39mdevice) \u001B[38;5;241m*\u001B[39m t\n\u001B[1;32m    390\u001B[0m     x, x_mean \u001B[38;5;241m=\u001B[39m corrector_update_fn(x, vec_t, cond\u001B[38;5;241m=\u001B[39mcond, model\u001B[38;5;241m=\u001B[39mmodel)\n\u001B[0;32m--> 391\u001B[0m     x, x_mean \u001B[38;5;241m=\u001B[39m \u001B[43mpredictor_update_fn\u001B[49m\u001B[43m(\u001B[49m\u001B[43mx\u001B[49m\u001B[43m,\u001B[49m\u001B[43m \u001B[49m\u001B[43mvec_t\u001B[49m\u001B[43m,\u001B[49m\u001B[43m \u001B[49m\u001B[43mcond\u001B[49m\u001B[38;5;241;43m=\u001B[39;49m\u001B[43mcond\u001B[49m\u001B[43m,\u001B[49m\u001B[43m \u001B[49m\u001B[43mmodel\u001B[49m\u001B[38;5;241;43m=\u001B[39;49m\u001B[43mmodel\u001B[49m\u001B[43m)\u001B[49m\n\u001B[1;32m    393\u001B[0m \u001B[38;5;28;01mreturn\u001B[39;00m x_mean \u001B[38;5;28;01mif\u001B[39;00m denoise \u001B[38;5;28;01melse\u001B[39;00m x, sde\u001B[38;5;241m.\u001B[39mN \u001B[38;5;241m*\u001B[39m (n_steps \u001B[38;5;241m+\u001B[39m \u001B[38;5;241m1\u001B[39m)\n",
      "File \u001B[0;32m~/Desktop/python_workspace/PCD_SM-Fluid-Pred/SDE/sampler.py:337\u001B[0m, in \u001B[0;36mshared_predictor_update_fn\u001B[0;34m(x, t, cond, sde, model, predictor, probability_flow)\u001B[0m\n\u001B[1;32m    335\u001B[0m \u001B[38;5;28;01melse\u001B[39;00m:\n\u001B[1;32m    336\u001B[0m     predictor_obj \u001B[38;5;241m=\u001B[39m predictor(sde, score_fn, probability_flow)\n\u001B[0;32m--> 337\u001B[0m \u001B[38;5;28;01mreturn\u001B[39;00m \u001B[43mpredictor_obj\u001B[49m\u001B[38;5;241;43m.\u001B[39;49m\u001B[43mupdate_fn\u001B[49m\u001B[43m(\u001B[49m\u001B[43mx\u001B[49m\u001B[43m,\u001B[49m\u001B[43m \u001B[49m\u001B[43mt\u001B[49m\u001B[43m,\u001B[49m\u001B[43m \u001B[49m\u001B[43mcond\u001B[49m\u001B[43m)\u001B[49m\n",
      "File \u001B[0;32m~/Desktop/python_workspace/PCD_SM-Fluid-Pred/SDE/sampler.py:177\u001B[0m, in \u001B[0;36mEulerMaruyamaPredictor.update_fn\u001B[0;34m(self, x, t, cond)\u001B[0m\n\u001B[1;32m    175\u001B[0m dt \u001B[38;5;241m=\u001B[39m \u001B[38;5;241m-\u001B[39m\u001B[38;5;28mself\u001B[39m\u001B[38;5;241m.\u001B[39mrsde\u001B[38;5;241m.\u001B[39mT \u001B[38;5;241m/\u001B[39m \u001B[38;5;28mself\u001B[39m\u001B[38;5;241m.\u001B[39mrsde\u001B[38;5;241m.\u001B[39mN\n\u001B[1;32m    176\u001B[0m z \u001B[38;5;241m=\u001B[39m torch\u001B[38;5;241m.\u001B[39mrandn_like(x)\n\u001B[0;32m--> 177\u001B[0m drift, diffusion \u001B[38;5;241m=\u001B[39m \u001B[38;5;28;43mself\u001B[39;49m\u001B[38;5;241;43m.\u001B[39;49m\u001B[43mrsde\u001B[49m\u001B[38;5;241;43m.\u001B[39;49m\u001B[43msde\u001B[49m\u001B[43m(\u001B[49m\u001B[43mx\u001B[49m\u001B[43m,\u001B[49m\u001B[43m \u001B[49m\u001B[43mt\u001B[49m\u001B[43m,\u001B[49m\u001B[43m \u001B[49m\u001B[43mcond\u001B[49m\u001B[43m)\u001B[49m\n\u001B[1;32m    178\u001B[0m x_mean \u001B[38;5;241m=\u001B[39m x \u001B[38;5;241m+\u001B[39m drift \u001B[38;5;241m*\u001B[39m dt\n\u001B[1;32m    179\u001B[0m x \u001B[38;5;241m=\u001B[39m x_mean \u001B[38;5;241m+\u001B[39m match_dim(diffusion, x_mean) \u001B[38;5;241m*\u001B[39m np\u001B[38;5;241m.\u001B[39msqrt(\u001B[38;5;241m-\u001B[39mdt) \u001B[38;5;241m*\u001B[39m z\n",
      "File \u001B[0;32m~/Desktop/python_workspace/PCD_SM-Fluid-Pred/SDE/sde_lib.py:89\u001B[0m, in \u001B[0;36mSDE.reverse.<locals>.RSDE.sde\u001B[0;34m(self, x, t, cond)\u001B[0m\n\u001B[1;32m     87\u001B[0m \u001B[38;5;250m\u001B[39m\u001B[38;5;124;03m\"\"\"Create the drift and diffusion functions for the reverse SDE/ODE.\"\"\"\u001B[39;00m\n\u001B[1;32m     88\u001B[0m drift, diffusion \u001B[38;5;241m=\u001B[39m sde_fn(x, t, cond\u001B[38;5;241m=\u001B[39mcond)\n\u001B[0;32m---> 89\u001B[0m score \u001B[38;5;241m=\u001B[39m \u001B[38;5;28;43mself\u001B[39;49m\u001B[38;5;241;43m.\u001B[39;49m\u001B[43mscore_fn\u001B[49m\u001B[43m(\u001B[49m\u001B[43mx\u001B[49m\u001B[43m,\u001B[49m\u001B[43m \u001B[49m\u001B[43mt\u001B[49m\u001B[43m,\u001B[49m\u001B[43m \u001B[49m\u001B[43mcond\u001B[49m\u001B[43m)\u001B[49m\n\u001B[1;32m     90\u001B[0m drift \u001B[38;5;241m=\u001B[39m drift \u001B[38;5;241m-\u001B[39m match_dim(diffusion, drift) \u001B[38;5;241m*\u001B[39m\u001B[38;5;241m*\u001B[39m \u001B[38;5;241m2\u001B[39m \u001B[38;5;241m*\u001B[39m score \u001B[38;5;241m*\u001B[39m (\u001B[38;5;241m0.5\u001B[39m \u001B[38;5;28;01mif\u001B[39;00m \u001B[38;5;28mself\u001B[39m\u001B[38;5;241m.\u001B[39mprobability_flow \u001B[38;5;28;01melse\u001B[39;00m \u001B[38;5;241m1.\u001B[39m)\n\u001B[1;32m     91\u001B[0m diffusion \u001B[38;5;241m=\u001B[39m \u001B[38;5;241m0.\u001B[39m \u001B[38;5;28;01mif\u001B[39;00m \u001B[38;5;28mself\u001B[39m\u001B[38;5;241m.\u001B[39mprobability_flow \u001B[38;5;28;01melse\u001B[39;00m diffusion\n",
      "File \u001B[0;32m~/Desktop/python_workspace/PCD_SM-Fluid-Pred/SDE/utils.py:62\u001B[0m, in \u001B[0;36mget_score_fn.<locals>.score_fn\u001B[0;34m(Xt, t, cond)\u001B[0m\n\u001B[1;32m     58\u001B[0m \u001B[38;5;66;03m# if Cfg.sdeCfg.sde_name in [\"vpsde\", \"subvpsde\"]:\u001B[39;00m\n\u001B[1;32m     60\u001B[0m t_embedding \u001B[38;5;241m=\u001B[39m torch\u001B[38;5;241m.\u001B[39mround(t_normalized \u001B[38;5;241m*\u001B[39m (SDE\u001B[38;5;241m.\u001B[39mN \u001B[38;5;241m-\u001B[39m \u001B[38;5;241m1\u001B[39m))\u001B[38;5;241m.\u001B[39mlong()\n\u001B[0;32m---> 62\u001B[0m model_output \u001B[38;5;241m=\u001B[39m \u001B[43mmodel\u001B[49m\u001B[43m(\u001B[49m\u001B[43mXt\u001B[49m\u001B[43m,\u001B[49m\u001B[43m \u001B[49m\u001B[43mt_embedding\u001B[49m\u001B[43m,\u001B[49m\u001B[43m \u001B[49m\u001B[43mcond\u001B[49m\u001B[43m,\u001B[49m\u001B[43m \u001B[49m\u001B[43mstd_t\u001B[49m\u001B[43m)\u001B[49m\n\u001B[1;32m     63\u001B[0m std_t[std_t\u001B[38;5;241m.\u001B[39mabs() \u001B[38;5;241m<\u001B[39m \u001B[38;5;241m1e-5\u001B[39m] \u001B[38;5;241m=\u001B[39m \u001B[38;5;241m1e-4\u001B[39m\n\u001B[1;32m     64\u001B[0m score \u001B[38;5;241m=\u001B[39m \u001B[38;5;241m-\u001B[39m model_output \u001B[38;5;241m/\u001B[39m match_dim(std_t, model_output)\n",
      "File \u001B[0;32m~/anaconda3/envs/SM-Fluid-Pred/lib/python3.10/site-packages/torch/nn/modules/module.py:1736\u001B[0m, in \u001B[0;36mModule._wrapped_call_impl\u001B[0;34m(self, *args, **kwargs)\u001B[0m\n\u001B[1;32m   1734\u001B[0m     \u001B[38;5;28;01mreturn\u001B[39;00m \u001B[38;5;28mself\u001B[39m\u001B[38;5;241m.\u001B[39m_compiled_call_impl(\u001B[38;5;241m*\u001B[39margs, \u001B[38;5;241m*\u001B[39m\u001B[38;5;241m*\u001B[39mkwargs)  \u001B[38;5;66;03m# type: ignore[misc]\u001B[39;00m\n\u001B[1;32m   1735\u001B[0m \u001B[38;5;28;01melse\u001B[39;00m:\n\u001B[0;32m-> 1736\u001B[0m     \u001B[38;5;28;01mreturn\u001B[39;00m \u001B[38;5;28;43mself\u001B[39;49m\u001B[38;5;241;43m.\u001B[39;49m\u001B[43m_call_impl\u001B[49m\u001B[43m(\u001B[49m\u001B[38;5;241;43m*\u001B[39;49m\u001B[43margs\u001B[49m\u001B[43m,\u001B[49m\u001B[43m \u001B[49m\u001B[38;5;241;43m*\u001B[39;49m\u001B[38;5;241;43m*\u001B[39;49m\u001B[43mkwargs\u001B[49m\u001B[43m)\u001B[49m\n",
      "File \u001B[0;32m~/anaconda3/envs/SM-Fluid-Pred/lib/python3.10/site-packages/torch/nn/modules/module.py:1747\u001B[0m, in \u001B[0;36mModule._call_impl\u001B[0;34m(self, *args, **kwargs)\u001B[0m\n\u001B[1;32m   1742\u001B[0m \u001B[38;5;66;03m# If we don't have any hooks, we want to skip the rest of the logic in\u001B[39;00m\n\u001B[1;32m   1743\u001B[0m \u001B[38;5;66;03m# this function, and just call forward.\u001B[39;00m\n\u001B[1;32m   1744\u001B[0m \u001B[38;5;28;01mif\u001B[39;00m \u001B[38;5;129;01mnot\u001B[39;00m (\u001B[38;5;28mself\u001B[39m\u001B[38;5;241m.\u001B[39m_backward_hooks \u001B[38;5;129;01mor\u001B[39;00m \u001B[38;5;28mself\u001B[39m\u001B[38;5;241m.\u001B[39m_backward_pre_hooks \u001B[38;5;129;01mor\u001B[39;00m \u001B[38;5;28mself\u001B[39m\u001B[38;5;241m.\u001B[39m_forward_hooks \u001B[38;5;129;01mor\u001B[39;00m \u001B[38;5;28mself\u001B[39m\u001B[38;5;241m.\u001B[39m_forward_pre_hooks\n\u001B[1;32m   1745\u001B[0m         \u001B[38;5;129;01mor\u001B[39;00m _global_backward_pre_hooks \u001B[38;5;129;01mor\u001B[39;00m _global_backward_hooks\n\u001B[1;32m   1746\u001B[0m         \u001B[38;5;129;01mor\u001B[39;00m _global_forward_hooks \u001B[38;5;129;01mor\u001B[39;00m _global_forward_pre_hooks):\n\u001B[0;32m-> 1747\u001B[0m     \u001B[38;5;28;01mreturn\u001B[39;00m \u001B[43mforward_call\u001B[49m\u001B[43m(\u001B[49m\u001B[38;5;241;43m*\u001B[39;49m\u001B[43margs\u001B[49m\u001B[43m,\u001B[49m\u001B[43m \u001B[49m\u001B[38;5;241;43m*\u001B[39;49m\u001B[38;5;241;43m*\u001B[39;49m\u001B[43mkwargs\u001B[49m\u001B[43m)\u001B[49m\n\u001B[1;32m   1749\u001B[0m result \u001B[38;5;241m=\u001B[39m \u001B[38;5;28;01mNone\u001B[39;00m\n\u001B[1;32m   1750\u001B[0m called_always_called_hooks \u001B[38;5;241m=\u001B[39m \u001B[38;5;28mset\u001B[39m()\n",
      "File \u001B[0;32m~/Desktop/python_workspace/PCD_SM-Fluid-Pred/models/module.py:37\u001B[0m, in \u001B[0;36mModelLightningModule.forward\u001B[0;34m(self, *args, **kwargs)\u001B[0m\n\u001B[1;32m     36\u001B[0m \u001B[38;5;28;01mdef\u001B[39;00m \u001B[38;5;21mforward\u001B[39m(\u001B[38;5;28mself\u001B[39m, \u001B[38;5;241m*\u001B[39margs, \u001B[38;5;241m*\u001B[39m\u001B[38;5;241m*\u001B[39mkwargs):\n\u001B[0;32m---> 37\u001B[0m     \u001B[38;5;28;01mreturn\u001B[39;00m \u001B[38;5;28;43mself\u001B[39;49m\u001B[38;5;241;43m.\u001B[39;49m\u001B[43mmodel\u001B[49m\u001B[43m(\u001B[49m\u001B[38;5;241;43m*\u001B[39;49m\u001B[43margs\u001B[49m\u001B[43m,\u001B[49m\u001B[43m \u001B[49m\u001B[38;5;241;43m*\u001B[39;49m\u001B[38;5;241;43m*\u001B[39;49m\u001B[43mkwargs\u001B[49m\u001B[43m)\u001B[49m\n",
      "File \u001B[0;32m~/anaconda3/envs/SM-Fluid-Pred/lib/python3.10/site-packages/torch/nn/modules/module.py:1736\u001B[0m, in \u001B[0;36mModule._wrapped_call_impl\u001B[0;34m(self, *args, **kwargs)\u001B[0m\n\u001B[1;32m   1734\u001B[0m     \u001B[38;5;28;01mreturn\u001B[39;00m \u001B[38;5;28mself\u001B[39m\u001B[38;5;241m.\u001B[39m_compiled_call_impl(\u001B[38;5;241m*\u001B[39margs, \u001B[38;5;241m*\u001B[39m\u001B[38;5;241m*\u001B[39mkwargs)  \u001B[38;5;66;03m# type: ignore[misc]\u001B[39;00m\n\u001B[1;32m   1735\u001B[0m \u001B[38;5;28;01melse\u001B[39;00m:\n\u001B[0;32m-> 1736\u001B[0m     \u001B[38;5;28;01mreturn\u001B[39;00m \u001B[38;5;28;43mself\u001B[39;49m\u001B[38;5;241;43m.\u001B[39;49m\u001B[43m_call_impl\u001B[49m\u001B[43m(\u001B[49m\u001B[38;5;241;43m*\u001B[39;49m\u001B[43margs\u001B[49m\u001B[43m,\u001B[49m\u001B[43m \u001B[49m\u001B[38;5;241;43m*\u001B[39;49m\u001B[38;5;241;43m*\u001B[39;49m\u001B[43mkwargs\u001B[49m\u001B[43m)\u001B[49m\n",
      "File \u001B[0;32m~/anaconda3/envs/SM-Fluid-Pred/lib/python3.10/site-packages/torch/nn/modules/module.py:1747\u001B[0m, in \u001B[0;36mModule._call_impl\u001B[0;34m(self, *args, **kwargs)\u001B[0m\n\u001B[1;32m   1742\u001B[0m \u001B[38;5;66;03m# If we don't have any hooks, we want to skip the rest of the logic in\u001B[39;00m\n\u001B[1;32m   1743\u001B[0m \u001B[38;5;66;03m# this function, and just call forward.\u001B[39;00m\n\u001B[1;32m   1744\u001B[0m \u001B[38;5;28;01mif\u001B[39;00m \u001B[38;5;129;01mnot\u001B[39;00m (\u001B[38;5;28mself\u001B[39m\u001B[38;5;241m.\u001B[39m_backward_hooks \u001B[38;5;129;01mor\u001B[39;00m \u001B[38;5;28mself\u001B[39m\u001B[38;5;241m.\u001B[39m_backward_pre_hooks \u001B[38;5;129;01mor\u001B[39;00m \u001B[38;5;28mself\u001B[39m\u001B[38;5;241m.\u001B[39m_forward_hooks \u001B[38;5;129;01mor\u001B[39;00m \u001B[38;5;28mself\u001B[39m\u001B[38;5;241m.\u001B[39m_forward_pre_hooks\n\u001B[1;32m   1745\u001B[0m         \u001B[38;5;129;01mor\u001B[39;00m _global_backward_pre_hooks \u001B[38;5;129;01mor\u001B[39;00m _global_backward_hooks\n\u001B[1;32m   1746\u001B[0m         \u001B[38;5;129;01mor\u001B[39;00m _global_forward_hooks \u001B[38;5;129;01mor\u001B[39;00m _global_forward_pre_hooks):\n\u001B[0;32m-> 1747\u001B[0m     \u001B[38;5;28;01mreturn\u001B[39;00m \u001B[43mforward_call\u001B[49m\u001B[43m(\u001B[49m\u001B[38;5;241;43m*\u001B[39;49m\u001B[43margs\u001B[49m\u001B[43m,\u001B[49m\u001B[43m \u001B[49m\u001B[38;5;241;43m*\u001B[39;49m\u001B[38;5;241;43m*\u001B[39;49m\u001B[43mkwargs\u001B[49m\u001B[43m)\u001B[49m\n\u001B[1;32m   1749\u001B[0m result \u001B[38;5;241m=\u001B[39m \u001B[38;5;28;01mNone\u001B[39;00m\n\u001B[1;32m   1750\u001B[0m called_always_called_hooks \u001B[38;5;241m=\u001B[39m \u001B[38;5;28mset\u001B[39m()\n",
      "File \u001B[0;32m~/Desktop/python_workspace/PCD_SM-Fluid-Pred/models/Custom_CondAttUnet_lowSkip/model.py:401\u001B[0m, in \u001B[0;36mNetwork.forward\u001B[0;34m(self, x, time, img_cond, noise_level)\u001B[0m\n\u001B[1;32m    398\u001B[0m alpha \u001B[38;5;241m=\u001B[39m alpha[\u001B[38;5;241m.\u001B[39m\u001B[38;5;241m.\u001B[39m\u001B[38;5;241m.\u001B[39m, \u001B[38;5;28;01mNone\u001B[39;00m, \u001B[38;5;28;01mNone\u001B[39;00m]\n\u001B[1;32m    400\u001B[0m \u001B[38;5;66;03m# never go to 0 or 1 (clamp)\u001B[39;00m\n\u001B[0;32m--> 401\u001B[0m alpha \u001B[38;5;241m=\u001B[39m \u001B[43mtorch\u001B[49m\u001B[38;5;241;43m.\u001B[39;49m\u001B[43mclamp\u001B[49m\u001B[43m(\u001B[49m\u001B[43malpha\u001B[49m\u001B[43m,\u001B[49m\u001B[43m \u001B[49m\u001B[38;5;28;43mmin\u001B[39;49m\u001B[38;5;241;43m=\u001B[39;49m\u001B[38;5;241;43m0.01\u001B[39;49m\u001B[43m,\u001B[49m\u001B[43m \u001B[49m\u001B[38;5;28;43mmax\u001B[39;49m\u001B[38;5;241;43m=\u001B[39;49m\u001B[38;5;241;43m0.99\u001B[39;49m\u001B[43m)\u001B[49m\n\u001B[1;32m    403\u001B[0m \u001B[38;5;66;03m# Final = original + alpha * correction\u001B[39;00m\n\u001B[1;32m    404\u001B[0m out \u001B[38;5;241m=\u001B[39m x_input \u001B[38;5;241m+\u001B[39m alpha \u001B[38;5;241m*\u001B[39m denoise\n",
      "\u001B[0;31mKeyboardInterrupt\u001B[0m: "
     ]
    }
   ],
   "execution_count": 3
  },
  {
   "metadata": {},
   "cell_type": "code",
   "outputs": [],
   "execution_count": null,
   "source": [],
   "id": "2219b0c9491f2176"
  }
 ],
 "metadata": {
  "kernelspec": {
   "display_name": "Python 3",
   "language": "python",
   "name": "python3"
  },
  "language_info": {
   "codemirror_mode": {
    "name": "ipython",
    "version": 2
   },
   "file_extension": ".py",
   "mimetype": "text/x-python",
   "name": "python",
   "nbconvert_exporter": "python",
   "pygments_lexer": "ipython2",
   "version": "2.7.6"
  }
 },
 "nbformat": 4,
 "nbformat_minor": 5
}
