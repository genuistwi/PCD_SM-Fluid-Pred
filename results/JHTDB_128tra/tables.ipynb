{
 "cells": [
  {
   "cell_type": "code",
   "execution_count": 1,
   "id": "initial_id",
   "metadata": {
    "collapsed": true,
    "ExecuteTime": {
     "end_time": "2025-05-02T14:41:58.745849019Z",
     "start_time": "2025-05-02T14:41:58.718134974Z"
    }
   },
   "outputs": [
    {
     "name": "stdout",
     "output_type": "stream",
     "text": [
      "Current working directory: /home/wilfried/Desktop/python_workspace/PCD_SM-Fluid-Pred\n"
     ]
    }
   ],
   "source": [
    "import os; work_dir = \"../../\"; os.chdir(work_dir); work_dir = os.getcwd(); print(\"Current working directory:\", work_dir)"
   ]
  },
  {
   "cell_type": "code",
   "execution_count": 2,
   "outputs": [
    {
     "name": "stdout",
     "output_type": "stream",
     "text": [
      "['velocity_x', 'velocity_y', 'density', 'pressure', 'mach']\n"
     ]
    }
   ],
   "source": [
    "from results.data import multiple_GT_loading, make_results_dicts, load_multiple_results\n",
    "from results.variables import method_strings, regularization, sde_names, test_cases\n",
    "from results.JHTDB_128tra.variables import mean, std\n",
    "\n",
    "IDs = ['y2025_m04_d24_11h_11m_40s', 'y2025_m04_d09_23h_16m_29s', 'y2025_m04_d28_08h_53m_22s',\n",
    "       'y2025_m04_d24_00h_29m_31s', 'y2025_m04_d24_03h_35m_40s', 'y2025_m04_d24_06h_14m_58s']\n",
    "\n",
    "\n",
    "dataKwargs = dict(test_cases=test_cases, means=mean, stds=std, dataset_name=(dataset_name:=\"JHTDB\"))\n",
    "strKwargs = dict(any_method_string=method_strings[0], any_ID=IDs[0], any_version=1)\n",
    "\n",
    "GTs, fields_name = multiple_GT_loading(**strKwargs, **dataKwargs); print(fields_name)\n",
    "GT_1, GT_2, GT_3 = GTs[1], GTs[2], GTs[3]\n",
    "\n",
    "# Form: test_set = {\"GT\": {\"pred\": GT_1},\n",
    "# \"regFalse\": {sde: {} for sde in sde_names}, \"regTrue\": {sde: {} for sde in sde_names}}\n",
    "empty_test_sets = make_results_dicts(GTs, regularization, sde_names, test_cases)  # test_set_1, ... ="
   ],
   "metadata": {
    "collapsed": false,
    "ExecuteTime": {
     "end_time": "2025-05-02T14:42:02.626030166Z",
     "start_time": "2025-05-02T14:41:58.733660407Z"
    }
   },
   "id": "e69f2860ee416412"
  },
  {
   "cell_type": "code",
   "execution_count": 3,
   "outputs": [
    {
     "name": "stdout",
     "output_type": "stream",
     "text": [
      "['velocity $u$', 'velocity $v$', 'density $\\\\rho$', 'pressure $P$', 'mach $Ma$']\n"
     ]
    }
   ],
   "source": [
    "from results.JHTDB_128tra.variables import fields_name; print(fields_name)\n",
    "import numpy as np\n",
    "\n",
    "fields_name_latex = ['$u$', '$v$', '$\\\\rho$', '$P$']"
   ],
   "metadata": {
    "collapsed": false,
    "ExecuteTime": {
     "end_time": "2025-05-02T14:42:02.626508149Z",
     "start_time": "2025-05-02T14:42:02.624870892Z"
    }
   },
   "id": "749a0b474b9e6a19"
  },
  {
   "cell_type": "code",
   "execution_count": 4,
   "outputs": [],
   "source": [
    "versions = [1,2,3,4,5]\n",
    "\n",
    "dataKwargs = dict(means=mean, stds=std, dataset_name=dataset_name, mask=(mask:=GTs[\"mask\"]))\n",
    "casesKwargs = dict(empty_test_sets=empty_test_sets, versions=versions, test_cases=test_cases)\n",
    "test_sets = load_multiple_results(method_strings, IDs, regularization, sde_names, **casesKwargs, **dataKwargs)\n",
    "\n",
    " # e.g. test_set_1[\"regTrue\"][\"vpsde\"][\"pred\"][42]\n",
    "test_set_1, test_set_2, test_set_3 = test_sets[1], test_sets[2], test_sets[3]\n",
    "num_fields = len(fields_name_latex)-1"
   ],
   "metadata": {
    "collapsed": false,
    "ExecuteTime": {
     "end_time": "2025-05-02T14:42:04.488708029Z",
     "start_time": "2025-05-02T14:42:02.625200568Z"
    }
   },
   "id": "c853942c4aebdabf"
  },
  {
   "cell_type": "code",
   "execution_count": 5,
   "outputs": [],
   "source": [
    "from results.operations import GT_measures, pred_measures\n",
    "\n",
    "\n",
    "n_bins = 200\n",
    "\n",
    "GT_measures(test_set_1, fields_name, n_bins, dataset_name=dataset_name)\n",
    "GT_measures(test_set_2, fields_name, n_bins, dataset_name=dataset_name)\n",
    "GT_measures(test_set_3, fields_name, n_bins, dataset_name=dataset_name)\n",
    "\n",
    "for version in versions:\n",
    "    # e.g. test_set_1[\"regTrue\"][\"vpsde\"][\"spatial_histogram\"][42][2], the 3rd field\n",
    "    # After key measure is input, input [version] except for GT\n",
    "    pred_measures(test_set_1, version, regularization, sde_names, fields_name, n_bins, dataset_name=dataset_name)\n",
    "    pred_measures(test_set_2, version, regularization, sde_names, fields_name, n_bins, dataset_name=dataset_name)\n",
    "    pred_measures(test_set_3, version, regularization, sde_names, fields_name, n_bins, dataset_name=dataset_name)"
   ],
   "metadata": {
    "collapsed": false,
    "ExecuteTime": {
     "end_time": "2025-05-02T14:42:41.844191577Z",
     "start_time": "2025-05-02T14:42:04.490268159Z"
    }
   },
   "id": "ad6439c173bc5513"
  },
  {
   "cell_type": "code",
   "execution_count": 6,
   "outputs": [],
   "source": [
    "import numpy as np\n",
    "import math\n",
    "from itertools import product\n",
    "\n",
    "def _flatten(d):\n",
    "    \"\"\"Return a 1‑D np.array no matter if *d* is list/array or dict.\"\"\"\n",
    "    if isinstance(d, dict):\n",
    "        return np.concatenate([np.ravel(v) for v in d.values()])\n",
    "    return np.ravel(d)\n",
    "\n",
    "def _mean_var(d):\n",
    "    d = _flatten(d)\n",
    "    return d.mean(), d.var(ddof=1)\n",
    "\n",
    "def _scientific_exponent(vals):\n",
    "    mags = [abs(v) for v in vals if v != 0]\n",
    "    if not mags:\n",
    "        return 0\n",
    "    exp = int(math.floor(math.log10(max(mags))))\n",
    "    # keep mantissas in [0.01,100)\n",
    "    if max(mags) / 10**exp < 0.1:\n",
    "        exp -= 1\n",
    "    return exp\n",
    "\n",
    "def build_latex_table(\n",
    "        test_cases,\n",
    "        sde_names,                     # iterable\n",
    "        regularization,                # iterable of True/False (or anything hashable)\n",
    "        measures,                      # iterable of keys\n",
    "        measure_labels,                # len == len(measures)\n",
    "        versions,                      # iterable\n",
    "        *,\n",
    "        sde_labels=None,               # mapping or iterable aligned w/ sde_names\n",
    "        regu_labels=None,              # mapping or iterable aligned w/ regularization\n",
    "        highlight_lowest=None,         # list[bool] same length as measures\n",
    "        num_decimals=2):\n",
    "\n",
    "    # ------- label helpers -------\n",
    "    if sde_labels is None:\n",
    "        sde_labels = {k: str(k) for k in sde_names}\n",
    "    elif not isinstance(sde_labels, dict):\n",
    "        sde_labels = {k: lbl for k, lbl in zip(sde_names, sde_labels)}\n",
    "\n",
    "    if regu_labels is None:\n",
    "        regu_labels = {k: str(k) for k in regularization}\n",
    "    elif not isinstance(regu_labels, dict):\n",
    "        regu_labels = {k: lbl for k, lbl in zip(regularization, regu_labels)}\n",
    "\n",
    "    if highlight_lowest is None:\n",
    "        highlight_lowest = [True] * len(measures)\n",
    "\n",
    "    # ---------- aggregation ----------\n",
    "    result = {}\n",
    "    for reg, sde in product(regularization, sde_names):\n",
    "        rows = []\n",
    "        for m in measures:\n",
    "            cols = []\n",
    "            for tc in test_cases:\n",
    "                data = [_flatten(tc[reg][sde][m][v]) for v in versions]\n",
    "                data = np.concatenate(data)\n",
    "                cols.append(_mean_var(data))\n",
    "            rows.append(cols)\n",
    "        result[(reg, sde)] = rows\n",
    "\n",
    "    # ---------- exponents per measure ----------\n",
    "    exponents = []\n",
    "    for mi, m in enumerate(measures):\n",
    "        vals = [result[(r, s)][mi][ti][0]\n",
    "                for r in regularization for s in sde_names\n",
    "                for ti in range(len(test_cases))]\n",
    "        exponents.append(_scientific_exponent(vals))\n",
    "\n",
    "    # ---------- collect scaled means (for boldface) ----------\n",
    "    n_cols = len(test_cases) * len(measures)\n",
    "    column_values = [[] for _ in range(n_cols)]\n",
    "    for reg, sde in product(regularization, sde_names):\n",
    "        for mi in range(len(measures)):\n",
    "            exp = exponents[mi]\n",
    "            for ti in range(len(test_cases)):\n",
    "                mean = result[(reg, sde)][mi][ti][0] / 10**exp\n",
    "                column_values[mi*len(test_cases)+ti].append(mean)\n",
    "\n",
    "    # choose minima or maxima per measure\n",
    "    column_best = []\n",
    "    for mi in range(len(measures)):\n",
    "        for ti in range(len(test_cases)):\n",
    "            col_idx = mi*len(test_cases)+ti\n",
    "            if highlight_lowest[mi]:\n",
    "                column_best.append(min(column_values[col_idx]))\n",
    "            else:\n",
    "                column_best.append(max(column_values[col_idx]))\n",
    "\n",
    "    # ---------- LaTeX assembly ----------\n",
    "    def fmt(mean, var, exp):\n",
    "        mean_s = f\"{mean/10**exp:.{num_decimals}f}\"\n",
    "        var_s  = f\"{var/10**exp:.{num_decimals}f}\"\n",
    "        return f\"{mean_s} $\\\\pm$ {var_s}\"\n",
    "\n",
    "    col_format = \"|c|c|\" + \"|\".join(\"c\"*len(test_cases) for _ in measures) + \"|\"\n",
    "\n",
    "    lines = [f\"\\\\begin{{tabular}}{{{col_format}}}\",\n",
    "             \"\\\\hline\",\n",
    "             \"\\\\textbf{SDE type} & \\\\textbf{Regularization} & \" +\n",
    "             \" & \".join(\n",
    "                 f\"\\\\multicolumn{{{len(test_cases)}}}{{c|}}{{{lbl} ($10^{{{exp}}}$)}}\"\n",
    "                 for lbl, exp in zip(measure_labels, exponents)\n",
    "             ) + \" \\\\\\\\\"]\n",
    "\n",
    "    # clines (first block already done)\n",
    "    running = 3\n",
    "    for i in range(len(measures)):\n",
    "        start = running\n",
    "        end   = running + len(test_cases) - 1\n",
    "        lines.append(f\"\\\\cline{{{start}-{end}}}\")\n",
    "        running += len(test_cases)\n",
    "\n",
    "    # table body\n",
    "    for reg in regularization:\n",
    "        for sde in sde_names:\n",
    "            row_cells = []\n",
    "            for mi in range(len(measures)):\n",
    "                exp = exponents[mi]\n",
    "                for ti in range(len(test_cases)):\n",
    "                    mean, var = result[(reg, sde)][mi][ti]\n",
    "                    scaled_mean = mean / 10**exp\n",
    "                    col_idx = mi*len(test_cases)+ti\n",
    "                    cell = fmt(mean, var, exp)\n",
    "                    if math.isclose(scaled_mean, column_best[col_idx]):\n",
    "                        cell = f\"\\\\textbf{{{cell}}}\"\n",
    "                    row_cells.append(cell)\n",
    "\n",
    "            lines.append(f\"{sde_labels[sde]} & {regu_labels[reg]} & \"\n",
    "                         + \" & \".join(row_cells) + \" \\\\\\\\\")\n",
    "        lines.append(\"\\\\hline\")\n",
    "\n",
    "    lines.append(\"\\\\end{tabular}\")\n",
    "    return \"\\n\".join(lines)"
   ],
   "metadata": {
    "collapsed": false,
    "ExecuteTime": {
     "end_time": "2025-05-02T14:42:41.885632408Z",
     "start_time": "2025-05-02T14:42:41.885085959Z"
    }
   },
   "id": "445affabb12525e2"
  },
  {
   "cell_type": "code",
   "execution_count": 7,
   "outputs": [
    {
     "name": "stdout",
     "output_type": "stream",
     "text": [
      "\\begin{tabular}{|c|c|ccc|ccc|ccc|ccc|}\n",
      "\\hline\n",
      "\\textbf{SDE type} & \\textbf{Regularization} & \\multicolumn{3}{c|}{MSE $\\downarrow$ ($10^{-3}$)} & \\multicolumn{3}{c|}{pearson $\\uparrow$ ($10^{-1}$)} & \\multicolumn{3}{c|}{RE $\\downarrow$ ($10^{-1}$)} & \\multicolumn{3}{c|}{KL ($10^{0}$)} \\\\\n",
      "\\cline{3-5}\n",
      "\\cline{6-8}\n",
      "\\cline{9-11}\n",
      "\\cline{12-14}\n",
      "VP & False & 2.52 $\\pm$ 0.02 & 1.49 $\\pm$ 0.01 & 2.82 $\\pm$ 0.03 & 9.90 $\\pm$ 0.00 & 9.93 $\\pm$ 0.00 & 9.88 $\\pm$ 0.00 & 1.08 $\\pm$ 0.27 & 0.86 $\\pm$ 0.19 & \\textbf{1.12 $\\pm$ 0.40} & 5.01 $\\pm$ 83.08 & 1.98 $\\pm$ 11.07 & 5.25 $\\pm$ 93.89 \\\\\n",
      "sub‑VP & False & 1.77 $\\pm$ 0.01 & 1.26 $\\pm$ 0.01 & 4.94 $\\pm$ 0.06 & 9.92 $\\pm$ 0.00 & 9.94 $\\pm$ 0.00 & 9.78 $\\pm$ 0.00 & \\textbf{0.95 $\\pm$ 0.18} & \\textbf{0.72 $\\pm$ 0.15} & 1.64 $\\pm$ 0.70 & 5.02 $\\pm$ 88.55 & \\textbf{1.88 $\\pm$ 9.80} & 5.34 $\\pm$ 99.47 \\\\\n",
      "VE & False & 7.45 $\\pm$ 0.09 & 8.67 $\\pm$ 0.14 & 8.17 $\\pm$ 0.11 & 9.67 $\\pm$ 0.01 & 9.61 $\\pm$ 0.01 & 9.64 $\\pm$ 0.01 & 2.06 $\\pm$ 0.83 & 2.28 $\\pm$ 1.24 & 2.07 $\\pm$ 0.82 & 5.23 $\\pm$ 87.23 & 2.50 $\\pm$ 11.12 & 5.49 $\\pm$ 95.58 \\\\\n",
      "\\hline\n",
      "VP & True & \\textbf{1.67 $\\pm$ 0.01} & \\textbf{1.06 $\\pm$ 0.00} & 3.10 $\\pm$ 0.04 & \\textbf{9.93 $\\pm$ 0.00} & \\textbf{9.95 $\\pm$ 0.00} & 9.86 $\\pm$ 0.00 & 0.98 $\\pm$ 0.21 & 0.73 $\\pm$ 0.12 & 1.27 $\\pm$ 0.50 & 5.07 $\\pm$ 92.12 & 2.12 $\\pm$ 13.47 & \\textbf{5.13 $\\pm$ 90.98} \\\\\n",
      "sub‑VP & True & 2.40 $\\pm$ 0.02 & 2.41 $\\pm$ 0.01 & 3.55 $\\pm$ 0.03 & 9.89 $\\pm$ 0.00 & 9.89 $\\pm$ 0.00 & 9.84 $\\pm$ 0.00 & 1.15 $\\pm$ 0.36 & 1.16 $\\pm$ 0.32 & 1.43 $\\pm$ 0.51 & 5.05 $\\pm$ 91.74 & 2.23 $\\pm$ 16.33 & 5.22 $\\pm$ 94.28 \\\\\n",
      "VE & True & 2.21 $\\pm$ 0.01 & 1.70 $\\pm$ 0.01 & \\textbf{2.50 $\\pm$ 0.02} & 9.90 $\\pm$ 0.00 & 9.92 $\\pm$ 0.00 & \\textbf{9.89 $\\pm$ 0.00} & 1.08 $\\pm$ 0.26 & 0.92 $\\pm$ 0.21 & 1.12 $\\pm$ 0.32 & \\textbf{4.99 $\\pm$ 93.09} & 2.21 $\\pm$ 15.39 & 5.19 $\\pm$ 98.90 \\\\\n",
      "\\hline\n",
      "\\end{tabular}\n"
     ]
    }
   ],
   "source": [
    "test_cases = [test_set_1, test_set_2, test_set_3]\n",
    "\n",
    "\n",
    "# latex = build_latex_table(\n",
    "#     test_cases       = test_cases,\n",
    "#     sde_names        = [\"vpsde\", \"subvpsde\", \"vesde\"],\n",
    "#     regularization   = regularization,\n",
    "#     measures         = [r\"MSE $\\downarrow$\", r\"pearson $\\uparrow$\", \"wasserstein_distance\", \"KL_divergence\"],\n",
    "#     measure_labels   = [\"MSE\", \"pearson\", \"W1\", \"KL\"],\n",
    "#     versions         = versions\n",
    "# )\n",
    "\n",
    "\n",
    "latex = build_latex_table(\n",
    "    test_cases       = test_cases,\n",
    "    sde_names        = [\"vpsde\", \"subvpsde\", \"vesde\"],\n",
    "    regularization   = regularization,\n",
    "    measures         = [\"MSE\", \"pearson\", \"RE\", \"KL_divergence\"],\n",
    "    measure_labels   = [\"MSE $\\downarrow$\", \"pearson $\\\\uparrow$\", \"RE $\\downarrow$\", \"KL\"],\n",
    "    versions         = versions,\n",
    "    sde_labels       = [\"VP\",\"sub‑VP\",\"VE\"],\n",
    "    regu_labels      = {regularization[0]:\"False\", regularization[1]:\"True\"},\n",
    "    highlight_lowest = [True, False, True, True]   # MSE ↓, FID ↑, PSNR ↓\n",
    ")\n",
    "\n",
    "print(latex)"
   ],
   "metadata": {
    "collapsed": false,
    "ExecuteTime": {
     "end_time": "2025-05-02T14:42:41.886379145Z",
     "start_time": "2025-05-02T14:42:41.885415194Z"
    }
   },
   "id": "44a46bc3e3964efa"
  },
  {
   "cell_type": "code",
   "execution_count": 7,
   "outputs": [],
   "source": [],
   "metadata": {
    "collapsed": false,
    "ExecuteTime": {
     "end_time": "2025-05-02T14:42:41.886743414Z",
     "start_time": "2025-05-02T14:42:41.885787139Z"
    }
   },
   "id": "d3f575acf90fbcd1"
  }
 ],
 "metadata": {
  "kernelspec": {
   "display_name": "Python 3",
   "language": "python",
   "name": "python3"
  },
  "language_info": {
   "codemirror_mode": {
    "name": "ipython",
    "version": 2
   },
   "file_extension": ".py",
   "mimetype": "text/x-python",
   "name": "python",
   "nbconvert_exporter": "python",
   "pygments_lexer": "ipython2",
   "version": "2.7.6"
  }
 },
 "nbformat": 4,
 "nbformat_minor": 5
}
