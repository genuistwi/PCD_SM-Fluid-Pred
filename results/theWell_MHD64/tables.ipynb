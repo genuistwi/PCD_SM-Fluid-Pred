{
 "cells": [
  {
   "cell_type": "code",
   "execution_count": 1,
   "id": "initial_id",
   "metadata": {
    "collapsed": true,
    "ExecuteTime": {
     "end_time": "2025-05-02T14:32:28.947340Z",
     "start_time": "2025-05-02T14:32:28.943269170Z"
    }
   },
   "outputs": [
    {
     "name": "stdout",
     "output_type": "stream",
     "text": [
      "Current working directory: /home/wilfried/Desktop/python_workspace/PCD_SM-Fluid-Pred\n"
     ]
    }
   ],
   "source": [
    "import os; work_dir = \"../../\"; os.chdir(work_dir); work_dir = os.getcwd(); print(\"Current working directory:\", work_dir)"
   ]
  },
  {
   "cell_type": "code",
   "execution_count": 2,
   "outputs": [
    {
     "name": "stdout",
     "output_type": "stream",
     "text": [
      "['density', 'magnetic_field_x', 'magnetic_field_y', 'magnetic_field_z', 'velocity_x', 'velocity_y', 'velocity_z']\n"
     ]
    }
   ],
   "source": [
    "from results.data import multiple_GT_loading, make_results_dicts, load_multiple_results\n",
    "from results.variables import method_strings, regularization, sde_names, test_cases\n",
    "from results.theWell_MHD64.variables import mean, std\n",
    "\n",
    "IDs = ['y2025_m04_d17_19h_24m_01s', 'y2025_m04_d17_22h_15m_44s', 'y2025_m04_d18_16h_00m_24s',\n",
    "       'y2025_m04_d26_03h_37m_16s', 'y2025_m04_d27_15h_04m_53s', 'y2025_m04_d27_17h_17m_00s']\n",
    "\n",
    "\n",
    "\n",
    "# Add as many samples as you can\n",
    "versions = [1,2,3,4,5]\n",
    "\n",
    "\n",
    "dataKwargs = dict(test_cases=test_cases, means=mean, stds=std, dataset_name=(dataset_name:=\"MHD_64\"))\n",
    "strKwargs = dict(any_method_string=method_strings[0], any_ID=IDs[0], any_version=1)\n",
    "\n",
    "GTs, fields_name = multiple_GT_loading(**strKwargs, **dataKwargs); print(fields_name)\n",
    "GT_1, GT_2, GT_3 = GTs[1], GTs[2], GTs[3]\n",
    "\n",
    "# Form: test_set = {\"GT\": {\"pred\": GT_1},\n",
    "# \"regFalse\": {sde: {} for sde in sde_names}, \"regTrue\": {sde: {} for sde in sde_names}}\n",
    "empty_test_sets = make_results_dicts(GTs, regularization, sde_names, test_cases)  # test_set_1, ... ="
   ],
   "metadata": {
    "collapsed": false,
    "ExecuteTime": {
     "end_time": "2025-05-02T14:32:35.689152730Z",
     "start_time": "2025-05-02T14:32:28.947240808Z"
    }
   },
   "id": "e69f2860ee416412"
  },
  {
   "cell_type": "code",
   "execution_count": 3,
   "outputs": [
    {
     "name": "stdout",
     "output_type": "stream",
     "text": [
      "['$\\\\rho$', '$B_x$', '$B_y$', '$B_z$', '$u$', '$v$', '$w$']\n"
     ]
    }
   ],
   "source": [
    "from results.theWell_MHD64.variables import fields_name; print(fields_name)\n",
    "import numpy as np\n",
    "\n",
    "fields_name_non_latex = [\"\\\\rho\", \"B_x\", \"B_y\", \"B_z\", \"u\", \"v\", \"w\"]"
   ],
   "metadata": {
    "collapsed": false,
    "ExecuteTime": {
     "end_time": "2025-05-02T14:32:35.697003694Z",
     "start_time": "2025-05-02T14:32:35.690702010Z"
    }
   },
   "id": "749a0b474b9e6a19"
  },
  {
   "cell_type": "code",
   "execution_count": 4,
   "outputs": [],
   "source": [
    "versions = [1,2,3,4,5]\n",
    "\n",
    "\n",
    "dataKwargs = dict(means=mean, stds=std, dataset_name=dataset_name)\n",
    "casesKwargs = dict(empty_test_sets=empty_test_sets, versions=versions, test_cases=test_cases)\n",
    "test_sets = load_multiple_results(method_strings, IDs, regularization, sde_names, **casesKwargs, **dataKwargs)\n",
    "\n",
    " # e.g. test_set_1[\"regTrue\"][\"vpsde\"][\"pred\"][42]\n",
    "test_set_1, test_set_2, test_set_3 = test_sets[1], test_sets[2], test_sets[3]"
   ],
   "metadata": {
    "collapsed": false,
    "ExecuteTime": {
     "end_time": "2025-05-02T14:33:15.354502664Z",
     "start_time": "2025-05-02T14:32:35.694356011Z"
    }
   },
   "id": "c853942c4aebdabf"
  },
  {
   "cell_type": "code",
   "execution_count": 5,
   "outputs": [
    {
     "name": "stderr",
     "output_type": "stream",
     "text": [
      "/home/wilfried/anaconda3/envs/SM-Fluid-Pred/lib/python3.10/site-packages/numpy/lib/_histograms_impl.py:901: RuntimeWarning: invalid value encountered in divide\n",
      "  return n/db/n.sum(), bin_edges\n",
      "/home/wilfried/Desktop/python_workspace/PCD_SM-Fluid-Pred/results/operations.py:364: RuntimeWarning: invalid value encountered in cast\n",
      "  dict_in[\"GT\"][\"spatial_histogram\"][field][t, :] = hist_counts\n",
      "/home/wilfried/Desktop/python_workspace/PCD_SM-Fluid-Pred/results/operations.py:621: RuntimeWarning: invalid value encountered in cast\n",
      "  dict_in[regu][sde][\"spatial_histogram\"][version][field][t, :] = hist_counts\n"
     ]
    }
   ],
   "source": [
    "from results.operations import GT_measures, pred_measures\n",
    "\n",
    "\n",
    "n_bins = 200\n",
    "\n",
    "GT_measures(test_set_1, fields_name, n_bins, dataset_name=dataset_name)\n",
    "GT_measures(test_set_2, fields_name, n_bins, dataset_name=dataset_name)\n",
    "GT_measures(test_set_3, fields_name, n_bins, dataset_name=dataset_name)\n",
    "\n",
    "for version in versions:\n",
    "    # e.g. test_set_1[\"regTrue\"][\"vpsde\"][\"spatial_histogram\"][42][2], the 3rd field\n",
    "    # After key measure is input, input [version] except for GT\n",
    "    pred_measures(test_set_1, version, regularization, sde_names, fields_name, n_bins, dataset_name=dataset_name)\n",
    "    pred_measures(test_set_2, version, regularization, sde_names, fields_name, n_bins, dataset_name=dataset_name)\n",
    "    pred_measures(test_set_3, version, regularization, sde_names, fields_name, n_bins, dataset_name=dataset_name)"
   ],
   "metadata": {
    "collapsed": false,
    "ExecuteTime": {
     "end_time": "2025-05-02T14:34:48.768242147Z",
     "start_time": "2025-05-02T14:33:15.394978849Z"
    }
   },
   "id": "ad6439c173bc5513"
  },
  {
   "cell_type": "code",
   "execution_count": 6,
   "outputs": [],
   "source": [
    "import numpy as np\n",
    "import math\n",
    "from itertools import product\n",
    "\n",
    "def _flatten(d):\n",
    "    \"\"\"Return a 1‑D np.array no matter if *d* is list/array or dict.\"\"\"\n",
    "    if isinstance(d, dict):\n",
    "        return np.concatenate([np.ravel(v) for v in d.values()])\n",
    "    return np.ravel(d)\n",
    "\n",
    "def _mean_var(d):\n",
    "    d = _flatten(d)\n",
    "    return d.mean(), d.var(ddof=1)\n",
    "\n",
    "def _scientific_exponent(vals):\n",
    "    mags = [abs(v) for v in vals if v != 0]\n",
    "    if not mags:\n",
    "        return 0\n",
    "    exp = int(math.floor(math.log10(max(mags))))\n",
    "    # keep mantissas in [0.01,100)\n",
    "    if max(mags) / 10**exp < 0.1:\n",
    "        exp -= 1\n",
    "    return exp\n",
    "\n",
    "def build_latex_table(\n",
    "        test_cases,\n",
    "        sde_names,                     # iterable\n",
    "        regularization,                # iterable of True/False (or anything hashable)\n",
    "        measures,                      # iterable of keys\n",
    "        measure_labels,                # len == len(measures)\n",
    "        versions,                      # iterable\n",
    "        *,\n",
    "        sde_labels=None,               # mapping or iterable aligned w/ sde_names\n",
    "        regu_labels=None,              # mapping or iterable aligned w/ regularization\n",
    "        highlight_lowest=None,         # list[bool] same length as measures\n",
    "        num_decimals=2):\n",
    "\n",
    "    # ------- label helpers -------\n",
    "    if sde_labels is None:\n",
    "        sde_labels = {k: str(k) for k in sde_names}\n",
    "    elif not isinstance(sde_labels, dict):\n",
    "        sde_labels = {k: lbl for k, lbl in zip(sde_names, sde_labels)}\n",
    "\n",
    "    if regu_labels is None:\n",
    "        regu_labels = {k: str(k) for k in regularization}\n",
    "    elif not isinstance(regu_labels, dict):\n",
    "        regu_labels = {k: lbl for k, lbl in zip(regularization, regu_labels)}\n",
    "\n",
    "    if highlight_lowest is None:\n",
    "        highlight_lowest = [True] * len(measures)\n",
    "\n",
    "    # ---------- aggregation ----------\n",
    "    result = {}\n",
    "    for reg, sde in product(regularization, sde_names):\n",
    "        rows = []\n",
    "        for m in measures:\n",
    "            cols = []\n",
    "            for tc in test_cases:\n",
    "                data = [_flatten(tc[reg][sde][m][v]) for v in versions]\n",
    "                data = np.concatenate(data)\n",
    "                cols.append(_mean_var(data))\n",
    "            rows.append(cols)\n",
    "        result[(reg, sde)] = rows\n",
    "\n",
    "    # ---------- exponents per measure ----------\n",
    "    exponents = []\n",
    "    for mi, m in enumerate(measures):\n",
    "        vals = [result[(r, s)][mi][ti][0]\n",
    "                for r in regularization for s in sde_names\n",
    "                for ti in range(len(test_cases))]\n",
    "        exponents.append(_scientific_exponent(vals))\n",
    "\n",
    "    # ---------- collect scaled means (for boldface) ----------\n",
    "    n_cols = len(test_cases) * len(measures)\n",
    "    column_values = [[] for _ in range(n_cols)]\n",
    "    for reg, sde in product(regularization, sde_names):\n",
    "        for mi in range(len(measures)):\n",
    "            exp = exponents[mi]\n",
    "            for ti in range(len(test_cases)):\n",
    "                mean = result[(reg, sde)][mi][ti][0] / 10**exp\n",
    "                column_values[mi*len(test_cases)+ti].append(mean)\n",
    "\n",
    "    # choose minima or maxima per measure\n",
    "    column_best = []\n",
    "    for mi in range(len(measures)):\n",
    "        for ti in range(len(test_cases)):\n",
    "            col_idx = mi*len(test_cases)+ti\n",
    "            if highlight_lowest[mi]:\n",
    "                column_best.append(min(column_values[col_idx]))\n",
    "            else:\n",
    "                column_best.append(max(column_values[col_idx]))\n",
    "\n",
    "    # ---------- LaTeX assembly ----------\n",
    "    def fmt(mean, var, exp):\n",
    "        mean_s = f\"{mean/10**exp:.{num_decimals}f}\"\n",
    "        var_s  = f\"{var/10**exp:.{num_decimals}f}\"\n",
    "        return f\"{mean_s} $\\\\pm$ {var_s}\"\n",
    "\n",
    "    col_format = \"|c|c|\" + \"|\".join(\"c\"*len(test_cases) for _ in measures) + \"|\"\n",
    "\n",
    "    lines = [f\"\\\\begin{{tabular}}{{{col_format}}}\",\n",
    "             \"\\\\hline\",\n",
    "             \"\\\\textbf{SDE type} & \\\\textbf{Regularization} & \" +\n",
    "             \" & \".join(\n",
    "                 f\"\\\\multicolumn{{{len(test_cases)}}}{{c|}}{{{lbl} ($10^{{{exp}}}$)}}\"\n",
    "                 for lbl, exp in zip(measure_labels, exponents)\n",
    "             ) + \" \\\\\\\\\"]\n",
    "\n",
    "    # clines (first block already done)\n",
    "    running = 3\n",
    "    for i in range(len(measures)):\n",
    "        start = running\n",
    "        end   = running + len(test_cases) - 1\n",
    "        lines.append(f\"\\\\cline{{{start}-{end}}}\")\n",
    "        running += len(test_cases)\n",
    "\n",
    "    # table body\n",
    "    for reg in regularization:\n",
    "        for sde in sde_names:\n",
    "            row_cells = []\n",
    "            for mi in range(len(measures)):\n",
    "                exp = exponents[mi]\n",
    "                for ti in range(len(test_cases)):\n",
    "                    mean, var = result[(reg, sde)][mi][ti]\n",
    "                    scaled_mean = mean / 10**exp\n",
    "                    col_idx = mi*len(test_cases)+ti\n",
    "                    cell = fmt(mean, var, exp)\n",
    "                    if math.isclose(scaled_mean, column_best[col_idx]):\n",
    "                        cell = f\"\\\\textbf{{{cell}}}\"\n",
    "                    row_cells.append(cell)\n",
    "\n",
    "            lines.append(f\"{sde_labels[sde]} & {regu_labels[reg]} & \"\n",
    "                         + \" & \".join(row_cells) + \" \\\\\\\\\")\n",
    "        lines.append(\"\\\\hline\")\n",
    "\n",
    "    lines.append(\"\\\\end{tabular}\")\n",
    "    return \"\\n\".join(lines)"
   ],
   "metadata": {
    "collapsed": false,
    "ExecuteTime": {
     "end_time": "2025-05-02T14:34:48.780166359Z",
     "start_time": "2025-05-02T14:34:48.779054870Z"
    }
   },
   "id": "445affabb12525e2"
  },
  {
   "cell_type": "code",
   "execution_count": 7,
   "outputs": [
    {
     "name": "stdout",
     "output_type": "stream",
     "text": [
      "\\begin{tabular}{|c|c|ccc|ccc|ccc|ccc|}\n",
      "\\hline\n",
      "\\textbf{SDE type} & \\textbf{Regularization} & \\multicolumn{3}{c|}{MSE $\\downarrow$ ($10^{-1}$)} & \\multicolumn{3}{c|}{pearson $\\uparrow$ ($10^{-1}$)} & \\multicolumn{3}{c|}{W1 ($10^{0}$)} & \\multicolumn{3}{c|}{KL ($10^{1}$)} \\\\\n",
      "\\cline{3-5}\n",
      "\\cline{6-8}\n",
      "\\cline{9-11}\n",
      "\\cline{12-14}\n",
      "VP & False & 1.43 $\\pm$ 0.08 & 1.39 $\\pm$ 0.10 & 1.79 $\\pm$ 0.29 & 7.85 $\\pm$ 0.13 & 8.05 $\\pm$ 0.14 & 7.65 $\\pm$ 0.18 & 0.99 $\\pm$ 0.14 & 0.86 $\\pm$ 0.14 & 0.83 $\\pm$ 0.12 & 0.94 $\\pm$ 14.38 & 0.78 $\\pm$ 20.27 & 0.85 $\\pm$ 21.90 \\\\\n",
      "sub‑VP & False & 1.50 $\\pm$ 0.10 & 1.21 $\\pm$ 0.07 & 1.59 $\\pm$ 0.17 & 7.70 $\\pm$ 0.15 & 8.19 $\\pm$ 0.11 & 7.78 $\\pm$ 0.15 & 1.06 $\\pm$ 0.17 & 0.80 $\\pm$ 0.10 & 0.82 $\\pm$ 0.12 & 0.94 $\\pm$ 13.73 & \\textbf{0.75 $\\pm$ 19.34} & 0.89 $\\pm$ 23.50 \\\\\n",
      "VE & False & \\textbf{1.23 $\\pm$ 0.07} & 1.11 $\\pm$ 0.06 & \\textbf{1.38 $\\pm$ 0.14} & \\textbf{8.06 $\\pm$ 0.11} & 8.28 $\\pm$ 0.10 & \\textbf{7.98 $\\pm$ 0.14} & \\textbf{0.92 $\\pm$ 0.12} & 0.78 $\\pm$ 0.11 & 0.76 $\\pm$ 0.11 & 0.91 $\\pm$ 14.06 & 0.86 $\\pm$ 20.45 & 0.86 $\\pm$ 22.86 \\\\\n",
      "\\hline\n",
      "VP & True & 1.38 $\\pm$ 0.09 & 1.23 $\\pm$ 0.07 & 1.62 $\\pm$ 0.20 & 7.85 $\\pm$ 0.15 & 8.13 $\\pm$ 0.13 & 7.77 $\\pm$ 0.16 & 0.98 $\\pm$ 0.15 & 0.80 $\\pm$ 0.12 & 0.79 $\\pm$ 0.11 & \\textbf{0.87 $\\pm$ 13.38} & 0.80 $\\pm$ 20.34 & \\textbf{0.80 $\\pm$ 20.80} \\\\\n",
      "sub‑VP & True & 1.47 $\\pm$ 0.10 & 1.45 $\\pm$ 0.10 & 1.68 $\\pm$ 0.15 & 7.82 $\\pm$ 0.14 & 7.99 $\\pm$ 0.15 & 7.76 $\\pm$ 0.16 & 1.04 $\\pm$ 0.17 & 0.88 $\\pm$ 0.14 & 0.85 $\\pm$ 0.13 & 0.92 $\\pm$ 14.21 & 0.76 $\\pm$ 19.15 & 0.84 $\\pm$ 21.82 \\\\\n",
      "VE & True & 1.24 $\\pm$ 0.06 & \\textbf{1.05 $\\pm$ 0.04} & 1.40 $\\pm$ 0.15 & 8.02 $\\pm$ 0.11 & \\textbf{8.35 $\\pm$ 0.08} & 7.97 $\\pm$ 0.13 & 0.94 $\\pm$ 0.12 & \\textbf{0.75 $\\pm$ 0.08} & \\textbf{0.76 $\\pm$ 0.10} & 1.00 $\\pm$ 15.15 & 0.82 $\\pm$ 20.74 & 0.87 $\\pm$ 23.17 \\\\\n",
      "\\hline\n",
      "\\end{tabular}\n"
     ]
    }
   ],
   "source": [
    "test_cases = [test_set_1, test_set_2, test_set_3]\n",
    "\n",
    "\n",
    "# latex = build_latex_table(\n",
    "#     test_cases       = test_cases,\n",
    "#     sde_names        = [\"vpsde\", \"subvpsde\", \"vesde\"],\n",
    "#     regularization   = regularization,\n",
    "#     measures         = [r\"MSE $\\downarrow$\", r\"pearson $\\uparrow$\", \"wasserstein_distance\", \"KL_divergence\"],\n",
    "#     measure_labels   = [\"MSE\", \"pearson\", \"W1\", \"KL\"],\n",
    "#     versions         = versions\n",
    "# )\n",
    "\n",
    "\n",
    "latex = build_latex_table(\n",
    "    test_cases       = test_cases,\n",
    "    sde_names        = [\"vpsde\", \"subvpsde\", \"vesde\"],\n",
    "    regularization   = regularization,\n",
    "    measures         = [\"MSE\", \"pearson\", \"RE_U\", \"KL_divergence\"],\n",
    "    measure_labels   = [\"MSE $\\downarrow$\", \"pearson $\\\\uparrow$\", \"W1\", \"KL\"],\n",
    "    versions         = versions,\n",
    "    sde_labels       = [\"VP\",\"sub‑VP\",\"VE\"],\n",
    "    regu_labels      = {regularization[0]:\"False\", regularization[1]:\"True\"},\n",
    "    highlight_lowest = [True, False, True, True]   # MSE ↓, FID ↑, PSNR ↓\n",
    ")\n",
    "\n",
    "print(latex)"
   ],
   "metadata": {
    "collapsed": false,
    "ExecuteTime": {
     "end_time": "2025-05-02T14:11:33.376294230Z",
     "start_time": "2025-05-02T14:11:33.358811209Z"
    }
   },
   "id": "44a46bc3e3964efa"
  },
  {
   "cell_type": "code",
   "execution_count": null,
   "outputs": [],
   "source": [],
   "metadata": {
    "collapsed": false
   },
   "id": "d3f575acf90fbcd1"
  }
 ],
 "metadata": {
  "kernelspec": {
   "display_name": "Python 3",
   "language": "python",
   "name": "python3"
  },
  "language_info": {
   "codemirror_mode": {
    "name": "ipython",
    "version": 2
   },
   "file_extension": ".py",
   "mimetype": "text/x-python",
   "name": "python",
   "nbconvert_exporter": "python",
   "pygments_lexer": "ipython2",
   "version": "2.7.6"
  }
 },
 "nbformat": 4,
 "nbformat_minor": 5
}
