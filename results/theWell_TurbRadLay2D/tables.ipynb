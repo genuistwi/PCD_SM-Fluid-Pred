{
 "cells": [
  {
   "cell_type": "code",
   "id": "initial_id",
   "metadata": {
    "collapsed": true,
    "ExecuteTime": {
     "end_time": "2025-05-04T14:19:33.686083Z",
     "start_time": "2025-05-04T14:19:33.677945Z"
    }
   },
   "source": [
    "import os; work_dir = \"../../\"; os.chdir(work_dir); work_dir = os.getcwd(); print(\"Current working directory:\", work_dir)"
   ],
   "outputs": [
    {
     "name": "stdout",
     "output_type": "stream",
     "text": [
      "Current working directory: /home/wilf/Desktop/python_workspace/PCD_SM-Fluid-Pred\n"
     ]
    }
   ],
   "execution_count": 1
  },
  {
   "cell_type": "code",
   "source": [
    "import numpy as np\n",
    "import matplotlib.pyplot as plt\n",
    "from results.data import multiple_GT_loading, make_results_dicts, load_multiple_results\n",
    "\n",
    "loadKwargs = dict(storage_path=\"./storage\", dataset_name=\"turbulent_radiative_layer_2D\")\n",
    "\n",
    "IDs = ['y2025_m04_d27_23h_30m_37s', 'y2025_m04_d02_09h_25m_13s', 'y2025_m04_d28_03h_18m_54s',\n",
    "       'y2025_m04_d24_10h_54m_08s', 'y2025_m04_d24_16h_28m_53s', 'y2025_m04_d24_19h_19m_14s']\n",
    "\n",
    "\n",
    "# WARNING: order of iteration must match IDs order\n",
    "method_strings = [\"E_loss_False__ODE_False\", \"E_loss_True__ODE_False\"]\n",
    "regularization = [\"regFalse\", \"regTrue\"]\n",
    "sde_names = [\"vpsde\", \"subvpsde\", \"vesde\"]\n",
    "\n",
    "\n",
    "test_cases = [1,2,3]\n",
    "\n",
    "# ORDER (fields): velocity (x,y), density, pressure, ORDER (params): mach\n",
    "mean = np.array([3.4847e+01, 9.4475e-01, 6.1707e-03, -2.4651e-02], dtype=np.float32)\n",
    "std =  np.array([4.4284e+01, 6.0970e-02, 4.1764e-02, 4.0095e-02], dtype=np.float32)\n",
    "\n",
    "dataKwargs = dict(test_cases=test_cases, means=mean, stds=std, dataset_name=\"turbulent_radiative_layer_2D\")\n",
    "GTs, fields_name = multiple_GT_loading(any_method_string=method_strings[0], any_ID=IDs[0], any_version=1, **dataKwargs)\n",
    "GT_1, GT_2, GT_3 = GTs[1], GTs[2], GTs[3]\n",
    "\n",
    "# Form: test_set = {\"GT\": {\"pred\": GT_1}, \"regFalse\": {sde: {} for sde in sde_names}, \"regTrue\": {sde: {} for sde in sde_names}}\n",
    "empty_test_sets = make_results_dicts(GTs, regularization, sde_names, test_cases)  # test_set_1, ... = empty_test_sets[1], ..."
   ],
   "metadata": {
    "collapsed": false,
    "ExecuteTime": {
     "end_time": "2025-05-04T14:19:37.402273Z",
     "start_time": "2025-05-04T14:19:33.911748Z"
    }
   },
   "id": "e69f2860ee416412",
   "outputs": [],
   "execution_count": 2
  },
  {
   "cell_type": "code",
   "source": [
    "import copy\n",
    "print(fields_name)\n",
    "fields_name[2], fields_name[3] = 'velocity ' f\"$u$\", 'velocity ' f\"$v$\"\n",
    "fields_name[0], fields_name[1] = 'density ' f'$\\\\rho$', 'pressure ' f'$P$'\n",
    "fields_name_non_latex = copy.deepcopy(fields_name)\n",
    "fields_name_latex = copy.deepcopy(fields_name)\n",
    "fields_name_non_latex[2], fields_name_non_latex[3] = \"u\", \"v\"\n",
    "fields_name_non_latex[0], fields_name_non_latex[1] = '\\\\rho', 'P'\n",
    "fields_name_latex[2], fields_name_latex[3] = f\"$u$\", f\"$v$\"\n",
    "fields_name_latex[0], fields_name_latex[1] = f'$\\\\rho$', f'$P$'\n",
    "print(fields_name)"
   ],
   "metadata": {
    "collapsed": false,
    "ExecuteTime": {
     "end_time": "2025-05-04T14:19:37.436201Z",
     "start_time": "2025-05-04T14:19:37.432383Z"
    }
   },
   "id": "749a0b474b9e6a19",
   "outputs": [
    {
     "name": "stdout",
     "output_type": "stream",
     "text": [
      "['density', 'pressure', 'velocity_x', 'velocity_y']\n",
      "['density $\\\\rho$', 'pressure $P$', 'velocity $u$', 'velocity $v$']\n"
     ]
    }
   ],
   "execution_count": 3
  },
  {
   "cell_type": "code",
   "source": [
    "versions = [1,2,3,4,5]  # Add as many samples as you can\n",
    "\n",
    "dataKwargs = dict(means=mean, stds=std, dataset_name=\"turbulent_radiative_layer_2D\", mask=(mask:=GTs[\"mask\"]))\n",
    "casesKwargs = dict(empty_test_sets=empty_test_sets, versions=versions, test_cases=test_cases)\n",
    "test_sets = load_multiple_results(method_strings, IDs, regularization, sde_names, **casesKwargs, **dataKwargs)\n",
    "\n",
    "test_set_1, test_set_2, test_set_3 = test_sets[1], test_sets[2], test_sets[3]  # e.g. test_set_1[\"regTrue\"][\"vpsde\"][\"pred\"][42]"
   ],
   "metadata": {
    "collapsed": false,
    "ExecuteTime": {
     "end_time": "2025-05-04T14:19:43.275788Z",
     "start_time": "2025-05-04T14:19:37.507327Z"
    }
   },
   "id": "c853942c4aebdabf",
   "outputs": [],
   "execution_count": 4
  },
  {
   "cell_type": "code",
   "source": [
    "from results.operations import GT_measures, pred_measures\n",
    "\n",
    "n_bins = 200\n",
    "\n",
    "GT_measures(test_set_1, fields_name, n_bins, dataset_name=\"turbulent_radiative_layer_2D\")\n",
    "GT_measures(test_set_2, fields_name, n_bins, dataset_name=\"turbulent_radiative_layer_2D\")\n",
    "GT_measures(test_set_3, fields_name, n_bins, dataset_name=\"turbulent_radiative_layer_2D\")\n",
    "\n",
    "perona=False\n",
    "\n",
    "for version in versions:  # e.g. test_set_1[\"regTrue\"][\"vpsde\"][\"spatial_histogram\"][42][2], the 3rd field\n",
    "    pred_measures(test_set_1, version, regularization, sde_names, fields_name, n_bins, perona=perona, dataset_name=\"turbulent_radiative_layer_2D\")\n",
    "    pred_measures(test_set_2, version, regularization, sde_names, fields_name, n_bins, perona=perona, dataset_name=\"turbulent_radiative_layer_2D\")\n",
    "    pred_measures(test_set_3, version, regularization, sde_names, fields_name, n_bins, perona=perona, dataset_name=\"turbulent_radiative_layer_2D\")\n",
    "\n",
    "# After key measure is input, input [version] except for GT"
   ],
   "metadata": {
    "collapsed": false,
    "ExecuteTime": {
     "end_time": "2025-05-04T14:20:27.368487Z",
     "start_time": "2025-05-04T14:19:43.324749Z"
    }
   },
   "id": "ad6439c173bc5513",
   "outputs": [
    {
     "name": "stderr",
     "output_type": "stream",
     "text": [
      "/home/wilf/anaconda3/envs/SM-Fluid-Pred/lib/python3.10/site-packages/numpy/lib/_histograms_impl.py:901: RuntimeWarning: invalid value encountered in divide\n",
      "  return n/db/n.sum(), bin_edges\n",
      "/home/wilf/Desktop/python_workspace/PCD_SM-Fluid-Pred/results/operations.py:364: RuntimeWarning: invalid value encountered in cast\n",
      "  dict_in[\"GT\"][\"spatial_histogram\"][field][t, :] = hist_counts\n",
      "/home/wilf/Desktop/python_workspace/PCD_SM-Fluid-Pred/results/operations.py:627: RuntimeWarning: invalid value encountered in cast\n",
      "  dict_in[regu][sde][\"spatial_histogram\"][version][field][t, :] = hist_counts\n"
     ]
    }
   ],
   "execution_count": 5
  },
  {
   "cell_type": "code",
   "source": [
    "import numpy as np\n",
    "import math\n",
    "from itertools import product\n",
    "\n",
    "def _flatten(d):\n",
    "    \"\"\"Return a 1‑D np.array no matter if *d* is list/array or dict.\"\"\"\n",
    "    if isinstance(d, dict):\n",
    "        return np.concatenate([np.ravel(v) for v in d.values()])\n",
    "    return np.ravel(d)\n",
    "\n",
    "def _mean_var(d):\n",
    "    d = _flatten(d)\n",
    "    return d.mean(), d.var(ddof=1)\n",
    "\n",
    "def _scientific_exponent(vals):\n",
    "    mags = [abs(v) for v in vals if v != 0]\n",
    "    if not mags:\n",
    "        return 0\n",
    "    exp = int(math.floor(math.log10(max(mags))))\n",
    "    # keep mantissas in [0.01,100)\n",
    "    if max(mags) / 10**exp < 0.1:\n",
    "        exp -= 1\n",
    "    return exp\n",
    "\n",
    "def build_latex_table(\n",
    "        test_cases,\n",
    "        sde_names,                     # iterable\n",
    "        regularization,                # iterable of True/False (or anything hashable)\n",
    "        measures,                      # iterable of keys\n",
    "        measure_labels,                # len == len(measures)\n",
    "        versions,                      # iterable\n",
    "        *,\n",
    "        sde_labels=None,               # mapping or iterable aligned w/ sde_names\n",
    "        regu_labels=None,              # mapping or iterable aligned w/ regularization\n",
    "        highlight_lowest=None,         # list[bool] same length as measures\n",
    "        num_decimals=2):\n",
    "\n",
    "    # ------- label helpers -------\n",
    "    if sde_labels is None:\n",
    "        sde_labels = {k: str(k) for k in sde_names}\n",
    "    elif not isinstance(sde_labels, dict):\n",
    "        sde_labels = {k: lbl for k, lbl in zip(sde_names, sde_labels)}\n",
    "\n",
    "    if regu_labels is None:\n",
    "        regu_labels = {k: str(k) for k in regularization}\n",
    "    elif not isinstance(regu_labels, dict):\n",
    "        regu_labels = {k: lbl for k, lbl in zip(regularization, regu_labels)}\n",
    "\n",
    "    if highlight_lowest is None:\n",
    "        highlight_lowest = [True] * len(measures)\n",
    "\n",
    "    # ---------- aggregation ----------\n",
    "    result = {}\n",
    "    for reg, sde in product(regularization, sde_names):\n",
    "        rows = []\n",
    "        for m in measures:\n",
    "            cols = []\n",
    "            for tc in test_cases:\n",
    "                data = [_flatten(tc[reg][sde][m][v]) for v in versions]\n",
    "                data = np.concatenate(data)\n",
    "                cols.append(_mean_var(data))\n",
    "            rows.append(cols)\n",
    "        result[(reg, sde)] = rows\n",
    "\n",
    "    # ---------- exponents per measure ----------\n",
    "    exponents = []\n",
    "    for mi, m in enumerate(measures):\n",
    "        vals = [result[(r, s)][mi][ti][0]\n",
    "                for r in regularization for s in sde_names\n",
    "                for ti in range(len(test_cases))]\n",
    "        exponents.append(_scientific_exponent(vals))\n",
    "\n",
    "    # ---------- collect scaled means (for boldface) ----------\n",
    "    n_cols = len(test_cases) * len(measures)\n",
    "    column_values = [[] for _ in range(n_cols)]\n",
    "    for reg, sde in product(regularization, sde_names):\n",
    "        for mi in range(len(measures)):\n",
    "            exp = exponents[mi]\n",
    "            for ti in range(len(test_cases)):\n",
    "                mean = result[(reg, sde)][mi][ti][0] / 10**exp\n",
    "                column_values[mi*len(test_cases)+ti].append(mean)\n",
    "\n",
    "    # choose minima or maxima per measure\n",
    "    column_best = []\n",
    "    for mi in range(len(measures)):\n",
    "        for ti in range(len(test_cases)):\n",
    "            col_idx = mi*len(test_cases)+ti\n",
    "            if highlight_lowest[mi]:\n",
    "                column_best.append(min(column_values[col_idx]))\n",
    "            else:\n",
    "                column_best.append(max(column_values[col_idx]))\n",
    "\n",
    "    # ---------- LaTeX assembly ----------\n",
    "    def fmt(mean, var, exp):\n",
    "        mean_s = f\"{mean/10**exp:.{num_decimals}f}\"\n",
    "        var_s  = f\"{var/10**exp:.{num_decimals}f}\"\n",
    "        return f\"{mean_s} $\\\\pm$ {var_s}\"\n",
    "\n",
    "    col_format = \"|c|c|\" + \"|\".join(\"c\"*len(test_cases) for _ in measures) + \"|\"\n",
    "\n",
    "    lines = [f\"\\\\begin{{tabular}}{{{col_format}}}\",\n",
    "             \"\\\\hline\",\n",
    "             \"\\\\textbf{SDE type} & \\\\textbf{Regularization} & \" +\n",
    "             \" & \".join(\n",
    "                 f\"\\\\multicolumn{{{len(test_cases)}}}{{c|}}{{{lbl} ($10^{{{exp}}}$)}}\"\n",
    "                 for lbl, exp in zip(measure_labels, exponents)\n",
    "             ) + \" \\\\\\\\\"]\n",
    "\n",
    "    # clines (first block already done)\n",
    "    running = 3\n",
    "    for i in range(len(measures)):\n",
    "        start = running\n",
    "        end   = running + len(test_cases) - 1\n",
    "        lines.append(f\"\\\\cline{{{start}-{end}}}\")\n",
    "        running += len(test_cases)\n",
    "\n",
    "    # table body\n",
    "    for reg in regularization:\n",
    "        for sde in sde_names:\n",
    "            row_cells = []\n",
    "            for mi in range(len(measures)):\n",
    "                exp = exponents[mi]\n",
    "                for ti in range(len(test_cases)):\n",
    "                    mean, var = result[(reg, sde)][mi][ti]\n",
    "                    scaled_mean = mean / 10**exp\n",
    "                    col_idx = mi*len(test_cases)+ti\n",
    "                    cell = fmt(mean, var, exp)\n",
    "                    if math.isclose(scaled_mean, column_best[col_idx]):\n",
    "                        cell = f\"\\\\textbf{{{cell}}}\"\n",
    "                    row_cells.append(cell)\n",
    "\n",
    "            lines.append(f\"{sde_labels[sde]} & {regu_labels[reg]} & \"\n",
    "                         + \" & \".join(row_cells) + \" \\\\\\\\\")\n",
    "        lines.append(\"\\\\hline\")\n",
    "\n",
    "    lines.append(\"\\\\end{tabular}\")\n",
    "    return \"\\n\".join(lines)"
   ],
   "metadata": {
    "collapsed": false,
    "ExecuteTime": {
     "end_time": "2025-05-04T14:49:39.960358Z",
     "start_time": "2025-05-04T14:49:39.947548Z"
    }
   },
   "id": "445affabb12525e2",
   "outputs": [],
   "execution_count": 10
  },
  {
   "cell_type": "code",
   "source": [
    "test_cases = [test_set_1, test_set_2, test_set_3]\n",
    "\n",
    "\n",
    "# latex = build_latex_table(\n",
    "#     test_cases       = test_cases,\n",
    "#     sde_names        = [\"vpsde\", \"subvpsde\", \"vesde\"],\n",
    "#     regularization   = regularization,\n",
    "#     measures         = [r\"MSE $\\downarrow$\", r\"pearson $\\uparrow$\", \"wasserstein_distance\", \"KL_divergence\"],\n",
    "#     measure_labels   = [\"MSE\", \"pearson\", \"W1\", \"KL\"],\n",
    "#     versions         = versions\n",
    "# )\n",
    "\n",
    "\n",
    "latex = build_latex_table(\n",
    "    test_cases       = test_cases,\n",
    "    sde_names        = [\"vpsde\", \"subvpsde\", \"vesde\"],\n",
    "    regularization   = regularization,\n",
    "    measures         = [\"MSE\",\n",
    "                        \"RE\",\n",
    "                        \"pearson\",\n",
    "                        \"KL_divergence\"],\n",
    "    measure_labels   = [\"$MSE \\downarrow$\",\n",
    "                        \"$Re$\",\n",
    "                        \"pearson $\\\\uparrow$\",\n",
    "                        \"$\\\\bar{\\mathbb{D}}_{KL}$\"],\n",
    "    versions         = versions,\n",
    "    sde_labels       = [\"VP\",\"sub‑VP\",\"VE\"],\n",
    "    regu_labels      = {regularization[0]:\"False\", regularization[1]:\"True\"},\n",
    "    highlight_lowest = [True, True, False, True]   # MSE ↓, FID ↑, PSNR ↓\n",
    ")\n",
    "\n",
    "print(latex)"
   ],
   "metadata": {
    "collapsed": false,
    "ExecuteTime": {
     "end_time": "2025-05-04T14:37:05.836898Z",
     "start_time": "2025-05-04T14:37:05.825519Z"
    }
   },
   "id": "44a46bc3e3964efa",
   "outputs": [
    {
     "name": "stdout",
     "output_type": "stream",
     "text": [
      "\\begin{tabular}{|c|c|ccc|ccc|ccc|ccc|}\n",
      "\\hline\n",
      "\\textbf{SDE type} & \\textbf{Regularization} & \\multicolumn{3}{c|}{$MSE \\downarrow$ ($10^{2}$)} & \\multicolumn{3}{c|}{$Re$ ($10^{-1}$)} & \\multicolumn{3}{c|}{pearson $\\uparrow$ ($10^{-1}$)} & \\multicolumn{3}{c|}{$\\bar{\\mathbb{D}}_{KL}$ ($10^{1}$)} \\\\\n",
      "\\cline{3-5}\n",
      "\\cline{6-8}\n",
      "\\cline{9-11}\n",
      "\\cline{12-14}\n",
      "VP & False & \\textbf{0.66 $\\pm$ 212.00} & 0.77 $\\pm$ 275.67 & 0.69 $\\pm$ 231.45 & \\textbf{3.27 $\\pm$ 0.56} & \\textbf{3.48 $\\pm$ 0.56} & 3.51 $\\pm$ 0.81 & \\textbf{9.52 $\\pm$ 0.01} & 9.45 $\\pm$ 0.01 & 9.50 $\\pm$ 0.01 & 1.05 $\\pm$ 11.18 & 1.11 $\\pm$ 10.85 & 0.90 $\\pm$ 9.67 \\\\\n",
      "sub‑VP & False & 0.74 $\\pm$ 271.05 & 1.00 $\\pm$ 457.83 & \\textbf{0.58 $\\pm$ 158.65} & 3.69 $\\pm$ 0.72 & 4.06 $\\pm$ 0.80 & \\textbf{3.23 $\\pm$ 0.71} & 9.48 $\\pm$ 0.01 & 9.30 $\\pm$ 0.02 & \\textbf{9.59 $\\pm$ 0.01} & 1.24 $\\pm$ 11.79 & 1.32 $\\pm$ 11.45 & 0.93 $\\pm$ 10.58 \\\\\n",
      "VE & False & 0.96 $\\pm$ 408.64 & 1.02 $\\pm$ 456.74 & 0.97 $\\pm$ 413.27 & 4.05 $\\pm$ 0.75 & 4.16 $\\pm$ 0.77 & 4.03 $\\pm$ 0.81 & 9.32 $\\pm$ 0.02 & 9.28 $\\pm$ 0.02 & 9.32 $\\pm$ 0.02 & \\textbf{0.61 $\\pm$ 6.65} & \\textbf{0.50 $\\pm$ 4.83} & \\textbf{0.37 $\\pm$ 4.53} \\\\\n",
      "\\hline\n",
      "VP & True & 0.72 $\\pm$ 222.39 & \\textbf{0.76 $\\pm$ 232.92} & 0.77 $\\pm$ 251.62 & 3.50 $\\pm$ 0.59 & 3.57 $\\pm$ 0.57 & 3.42 $\\pm$ 0.57 & 9.48 $\\pm$ 0.01 & \\textbf{9.46 $\\pm$ 0.01} & 9.46 $\\pm$ 0.01 & 1.20 $\\pm$ 11.48 & 1.05 $\\pm$ 10.27 & 0.92 $\\pm$ 11.13 \\\\\n",
      "sub‑VP & True & 0.93 $\\pm$ 370.56 & 0.85 $\\pm$ 276.49 & 0.78 $\\pm$ 242.53 & 4.23 $\\pm$ 1.01 & 3.79 $\\pm$ 0.66 & 3.62 $\\pm$ 0.70 & 9.32 $\\pm$ 0.02 & 9.40 $\\pm$ 0.01 & 9.45 $\\pm$ 0.01 & 0.91 $\\pm$ 9.25 & 0.91 $\\pm$ 8.54 & 0.78 $\\pm$ 9.12 \\\\\n",
      "VE & True & 0.91 $\\pm$ 428.97 & 0.93 $\\pm$ 404.85 & 0.73 $\\pm$ 263.68 & 3.71 $\\pm$ 0.71 & 3.89 $\\pm$ 0.71 & 3.88 $\\pm$ 0.95 & 9.38 $\\pm$ 0.02 & 9.38 $\\pm$ 0.02 & 9.50 $\\pm$ 0.01 & 0.85 $\\pm$ 9.98 & 0.77 $\\pm$ 9.09 & 0.74 $\\pm$ 9.38 \\\\\n",
      "\\hline\n",
      "\\end{tabular}\n"
     ]
    }
   ],
   "execution_count": 9
  },
  {
   "cell_type": "code",
   "execution_count": null,
   "outputs": [],
   "source": [],
   "metadata": {
    "collapsed": false
   },
   "id": "d3f575acf90fbcd1"
  }
 ],
 "metadata": {
  "kernelspec": {
   "display_name": "Python 3",
   "language": "python",
   "name": "python3"
  },
  "language_info": {
   "codemirror_mode": {
    "name": "ipython",
    "version": 2
   },
   "file_extension": ".py",
   "mimetype": "text/x-python",
   "name": "python",
   "nbconvert_exporter": "python",
   "pygments_lexer": "ipython2",
   "version": "2.7.6"
  }
 },
 "nbformat": 4,
 "nbformat_minor": 5
}
